{
  "nbformat": 4,
  "nbformat_minor": 0,
  "metadata": {
    "colab": {
      "name": "Assignment4.ipynb",
      "provenance": [],
      "authorship_tag": "ABX9TyPj49nj8IsBquJMW1Pu1wo2",
      "include_colab_link": true
    },
    "kernelspec": {
      "name": "python3",
      "display_name": "Python 3"
    },
    "language_info": {
      "name": "python"
    }
  },
  "cells": [
    {
      "cell_type": "markdown",
      "metadata": {
        "id": "view-in-github",
        "colab_type": "text"
      },
      "source": [
        "<a href=\"https://colab.research.google.com/github/abdulrah77/ineuron_assignments/blob/main/Assignment4.ipynb\" target=\"_parent\"><img src=\"https://colab.research.google.com/assets/colab-badge.svg\" alt=\"Open In Colab\"/></a>"
      ]
    },
    {
      "cell_type": "markdown",
      "source": [
        "1. What exactly is []?\n",
        "[] represents the empty list.\n",
        "\n",
        "2. In a list of values stored in a variable called spam, how would you assign the value 'hello' as the third value? (Assume [2, 4, 6, 8, 10] are in spam.)\n",
        "spam[2]=\"Hello\"\n",
        "\n",
        "Let's pretend the spam includes the list ['a', 'b', 'c', 'd'] for the next three queries.\n",
        "\n",
        "\n",
        "3. What is the value of spam[int(int('3' * 2) / 11)]?\n",
        "int('3' * 2)= 33\n",
        "int(33 / 11)\n",
        "spam[3] is 'd'\n",
        "\n",
        "4. What is the value of spam[-1]?\n",
        "spam[-1] is 'd'\n",
        "\n",
        "5. What is the value of spam[:2]?\n",
        "spam[:2] is ['a','b']\n",
        "\n",
        "Let's pretend bacon has the list [3.14, 'cat', 11, 'cat', True] for the next three questions.\n",
        "\n",
        "6. What is the value of bacon.index('cat')?\n",
        "Ans:1\n",
        "\n",
        "7. How does bacon.append(99) change the look of the list value in bacon?\n",
        "[3.14, 'cat', 11, 'cat', True, 99]\n",
        "\n",
        "8. How does bacon.remove('cat') change the look of the list in bacon?\n",
        "[3.14,  11, 'cat', True, 99]\n",
        "\n",
        "9. What are the list concatenation and list replication operators?\n",
        "+ : list1+list2 => list3. +, concatenates\n",
        "* : list*2=> [3.14,  11, 'cat', True, 99 ,3.14,  11, 'cat', True, 99]. *, replicates\n",
        "\n",
        "10. What is difference between the list methods append() and insert()?\n",
        "append() => Appends object to the end of the list\n",
        "insert() => Insert object before index\n",
        "\n",
        "11. What are the two methods for removing items from a list?\n",
        "remove() => Removes first occurence of a element\n",
        "pop() => Removes and returns item at index \n",
        "\n",
        "12. Describe how list values and string values are identical.\n",
        "Both are sequential\n",
        "\n",
        "13. What's the difference between tuples and lists?\n",
        "tuples are immutable, lists are mutable\n",
        "lists are enclosed in square brackets\n",
        "Tuples are enclosed in paranthesis\n",
        "\n",
        "14. How do you type a tuple value that only contains the integer 42?\n",
        "t=(42,)\n",
        "15. How do you get a list value's tuple form? How do you get a tuple value's list form?\n",
        "li =[1,2,3]\n",
        "tuple(li)\n",
        "\n",
        "16. Variables that \"contain\" list values are not necessarily lists themselves. Instead, what do they contain?\n",
        "reference to the lists\n",
        "\n",
        "17. How do you distinguish between copy.copy() and copy.deepcopy()?\n",
        "copy.copy() copies the reference of the original list any element changed in the original list will reflect in the new list as well. Where when a new list is added to the original nested list, that will not be reflected.\n",
        "\n",
        "copy.deepcopy() creates a independent list from the original. Thus any list added or element changed in the original list will not be reflected in the new list\n"
      ],
      "metadata": {
        "id": "z4j3tbAgxg96"
      }
    }
  ]
}