{
  "nbformat": 4,
  "nbformat_minor": 0,
  "metadata": {
    "colab": {
      "name": "Programming_Assignment10.ipynb",
      "provenance": [],
      "authorship_tag": "ABX9TyPJMtxCYNVbHhnZ2JtaD9G0",
      "include_colab_link": true
    },
    "kernelspec": {
      "name": "python3",
      "display_name": "Python 3"
    },
    "language_info": {
      "name": "python"
    }
  },
  "cells": [
    {
      "cell_type": "markdown",
      "metadata": {
        "id": "view-in-github",
        "colab_type": "text"
      },
      "source": [
        "<a href=\"https://colab.research.google.com/github/abdulrah77/ineuron_assignments/blob/main/Programming_Assignment10.ipynb\" target=\"_parent\"><img src=\"https://colab.research.google.com/assets/colab-badge.svg\" alt=\"Open In Colab\"/></a>"
      ]
    },
    {
      "cell_type": "code",
      "execution_count": 4,
      "metadata": {
        "id": "KMaR8XHggXMT",
        "colab": {
          "base_uri": "https://localhost:8080/"
        },
        "outputId": "f354a66a-5d3f-4d35-ecac-0a8ee40a1eb7"
      },
      "outputs": [
        {
          "output_type": "stream",
          "name": "stdout",
          "text": [
            "190\n"
          ]
        }
      ],
      "source": [
        "# 1. Write a Python program to find sum of elements in list?\n",
        "l=list(range(20))\n",
        "print(sum(l))\n"
      ]
    },
    {
      "cell_type": "code",
      "source": [
        "\n",
        "# 2. Write a Python program to Multiply all numbers in the list?\n",
        "l=list(range(1,8))\n",
        "total=1\n",
        "for i in l:\n",
        "  total *=i\n",
        "print(total)\n"
      ],
      "metadata": {
        "colab": {
          "base_uri": "https://localhost:8080/"
        },
        "id": "l2vCjj_Z8zHk",
        "outputId": "39a0192a-0549-49af-e0ee-d1364c6d3ef2"
      },
      "execution_count": 13,
      "outputs": [
        {
          "output_type": "stream",
          "name": "stdout",
          "text": [
            "5040\n"
          ]
        }
      ]
    },
    {
      "cell_type": "code",
      "source": [
        "# 3. Write a Python program to find smallest number in a list?\n",
        "\n",
        "import random\n",
        "l=[]\n",
        "for i in range(15):\n",
        "    l.append(random.randint(1,999))\n",
        "print(l, min(l), sep='\\n')\n"
      ],
      "metadata": {
        "colab": {
          "base_uri": "https://localhost:8080/"
        },
        "id": "sm8humNp9XIE",
        "outputId": "afda3391-b184-439a-ff3c-bf5a99b2214f"
      },
      "execution_count": 15,
      "outputs": [
        {
          "output_type": "stream",
          "name": "stdout",
          "text": [
            "[713, 158, 880, 254, 791, 921, 100, 341, 663, 421, 937, 874, 611, 613, 170]\n",
            "100\n"
          ]
        }
      ]
    },
    {
      "cell_type": "code",
      "source": [
        "# 4. Write a Python program to find largest number in a list?\n",
        "import random\n",
        "l=[]\n",
        "for i in range(15):\n",
        "    l.append(random.randint(1,999))\n",
        "print(l, max(l), sep='\\n')"
      ],
      "metadata": {
        "colab": {
          "base_uri": "https://localhost:8080/"
        },
        "id": "fP1UAQb-93aO",
        "outputId": "3a419db1-30d1-42a3-9cf6-f7d226677d6d"
      },
      "execution_count": 16,
      "outputs": [
        {
          "output_type": "stream",
          "name": "stdout",
          "text": [
            "[363, 818, 978, 295, 689, 914, 179, 215, 981, 710, 123, 45, 870, 981, 563]\n",
            "981\n"
          ]
        }
      ]
    },
    {
      "cell_type": "code",
      "source": [
        "# 5. Write a Python program to find second largest number in a list?\n",
        "import random\n",
        "\n",
        "l=[]\n",
        "for i in range(15):\n",
        "    l.append(random.randint(1,999))\n",
        "l.sort()\n",
        "print(l,l[-2], sep='\\n')"
      ],
      "metadata": {
        "colab": {
          "base_uri": "https://localhost:8080/"
        },
        "id": "ZQ0EZVmA-jL9",
        "outputId": "cc3bb923-5467-462a-f4e1-73023a8e6b85"
      },
      "execution_count": 27,
      "outputs": [
        {
          "output_type": "stream",
          "name": "stdout",
          "text": [
            "[186, 193, 333, 484, 516, 675, 753, 758, 776, 840, 868, 875, 901, 913, 978]\n",
            "913\n"
          ]
        }
      ]
    },
    {
      "cell_type": "code",
      "source": [
        "# 6. Write a Python program to find N largest elements from a list?\n",
        "import random\n",
        "def find_nth_great(n,m):\n",
        "    l=[]\n",
        "    for i in range(m): \n",
        "        l.append(random.randint(0,999))\n",
        "    l.sort()\n",
        "    print(l,l[-n], sep='\\n')\n",
        "m= int(input(\"Enter the list length: \"))\n",
        "n=int(input(\"Enter the Nth largest number you want to find: \"))\n",
        "\n",
        "try:\n",
        "  find_nth_great(n,m)\n",
        "except:# n is limited by the list length\n",
        "  print(\"please enter a number within the list length\")\n"
      ],
      "metadata": {
        "colab": {
          "base_uri": "https://localhost:8080/"
        },
        "id": "oUGPejsA-orp",
        "outputId": "33511efb-6fab-4e1d-e90c-334cc0462ef6"
      },
      "execution_count": 35,
      "outputs": [
        {
          "output_type": "stream",
          "name": "stdout",
          "text": [
            "Enter the list length: 33\n",
            "Enter the Nth largest number you want to find: 12\n",
            "[86, 88, 122, 127, 139, 169, 237, 257, 325, 354, 362, 368, 369, 440, 444, 458, 466, 484, 502, 519, 582, 602, 607, 613, 626, 760, 763, 780, 799, 810, 827, 920, 944]\n",
            "602\n"
          ]
        }
      ]
    },
    {
      "cell_type": "code",
      "source": [
        "# 7. Write a Python program to print even numbers in a list?\n",
        "import random\n",
        "def create_list(list_length):\n",
        "  l=[]\n",
        "  for i in range(list_length):\n",
        "    l.append(random.randint(0,999))\n",
        "  return l\n",
        "\n",
        "def even_num_list(l):\n",
        "  even_list=[]\n",
        "  for i in l:\n",
        "    if i%2==0:\n",
        "        even_list.append(i)\n",
        "  return even_list\n",
        "\n",
        "\n",
        "list_length=int(input(\"Enter the list length: \"))\n",
        "print(even_num_list(create_list(list_length)))\n"
      ],
      "metadata": {
        "colab": {
          "base_uri": "https://localhost:8080/"
        },
        "id": "5Oi9XqwxNUNB",
        "outputId": "99b11e28-c1d8-4b23-f41f-1387ed3f9265"
      },
      "execution_count": 40,
      "outputs": [
        {
          "output_type": "stream",
          "name": "stdout",
          "text": [
            "Enter the list length: 26\n",
            "[712, 872, 994, 136, 296, 116, 724, 388, 442, 154, 542, 730, 324, 234, 972]\n"
          ]
        }
      ]
    },
    {
      "cell_type": "code",
      "source": [
        "# 8. Write a Python program to print odd numbers in a List?\n",
        "import random\n",
        "def create_list(list_length):\n",
        "  l=[]\n",
        "  for i in range(list_length):\n",
        "    l.append(random.randint(0,999))\n",
        "  return l\n",
        "\n",
        "def even_num_list(l):\n",
        "  even_list=[]\n",
        "  for i in l:\n",
        "    if i%2!=0:\n",
        "        even_list.append(i)\n",
        "  return even_list\n",
        "\n",
        "\n",
        "list_length=int(input(\"Enter the list length: \"))\n",
        "print(even_num_list(create_list(list_length)))\n"
      ],
      "metadata": {
        "colab": {
          "base_uri": "https://localhost:8080/"
        },
        "id": "Hy4g-vFuNqSv",
        "outputId": "260e70e9-7d7a-4d67-ceff-35046c4abc73"
      },
      "execution_count": 41,
      "outputs": [
        {
          "output_type": "stream",
          "name": "stdout",
          "text": [
            "Enter the list length: 55\n",
            "[911, 663, 57, 699, 799, 229, 669, 115, 257, 107, 947, 935, 599, 797, 909, 979, 373, 277, 43, 337, 83, 325, 151, 981]\n"
          ]
        }
      ]
    },
    {
      "cell_type": "code",
      "source": [
        "# 9. Write a Python program to Remove empty List from List?\n",
        "list1 = [[], [], [], 'Red', 'Green', [1,2], 'Blue', [], []]\n",
        "list2=[]\n",
        "for i in list1:\n",
        "    if i: #if none, does not enter the if loop\n",
        "        list2.append(i)\n",
        "print(list2)\n"
      ],
      "metadata": {
        "id": "SCyN-YrgPpG-"
      },
      "execution_count": null,
      "outputs": []
    },
    {
      "cell_type": "code",
      "source": [
        "# 10. Write a Python program to Cloning or Copying a list?\n",
        "import copy\n",
        "import random\n",
        "def create_list(list_length): # create of desired length\n",
        "  l=[]\n",
        "  for i in range(list_length):\n",
        "    l.append(random.randint(0,999))\n",
        "  return l\n",
        "\n",
        "ll= create_list(16)\n",
        "newlist1=ll.copy()\n",
        "newlist2=copy.copy(ll)\n",
        "newlist3=copy.deepcopy(ll)\n",
        "\n",
        "newlist4 = []\n",
        "for i in ll:\n",
        "  newlist4.append(l)"
      ],
      "metadata": {
        "id": "ZLEqaENkRZsI"
      },
      "execution_count": 43,
      "outputs": []
    },
    {
      "cell_type": "code",
      "source": [
        "# 11. Write a Python program to Count occurrences of an element in a list?\n",
        "import random\n",
        "\n",
        "def create_list(list_length): # create of desired length\n",
        "  l=[]\n",
        "  for i in range(list_length):\n",
        "    l.append(random.randint(5,10))\n",
        "  return l\n",
        "\n",
        "ll=create_list(12)\n",
        "check= set()\n",
        "for i in ll:\n",
        "    if i not in check:\n",
        "        check.add(i)\n",
        "        print(f\"Value: {i} , frequency: {ll.count(i)}\")"
      ],
      "metadata": {
        "colab": {
          "base_uri": "https://localhost:8080/"
        },
        "id": "SDyT0I-fRdr8",
        "outputId": "bf2d96f6-76db-454f-ecc2-d6a69b8948db"
      },
      "execution_count": 56,
      "outputs": [
        {
          "output_type": "stream",
          "name": "stdout",
          "text": [
            "Value: 10 , frequency: 3\n",
            "Value: 7 , frequency: 2\n",
            "Value: 6 , frequency: 1\n",
            "Value: 5 , frequency: 1\n",
            "Value: 8 , frequency: 3\n",
            "Value: 9 , frequency: 2\n"
          ]
        }
      ]
    }
  ]
}