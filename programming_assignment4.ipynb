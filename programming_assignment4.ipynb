{
  "nbformat": 4,
  "nbformat_minor": 0,
  "metadata": {
    "colab": {
      "name": "programming_assignment4.ipynb",
      "provenance": [],
      "authorship_tag": "ABX9TyPKsvTk1QEKOF32gsvBkNsV",
      "include_colab_link": true
    },
    "kernelspec": {
      "name": "python3",
      "display_name": "Python 3"
    },
    "language_info": {
      "name": "python"
    }
  },
  "cells": [
    {
      "cell_type": "markdown",
      "metadata": {
        "id": "view-in-github",
        "colab_type": "text"
      },
      "source": [
        "<a href=\"https://colab.research.google.com/github/abdulrah77/ineuron_assignments/blob/main/programming_assignment4.ipynb\" target=\"_parent\"><img src=\"https://colab.research.google.com/assets/colab-badge.svg\" alt=\"Open In Colab\"/></a>"
      ]
    },
    {
      "cell_type": "code",
      "execution_count": 7,
      "metadata": {
        "colab": {
          "base_uri": "https://localhost:8080/"
        },
        "id": "tRyfQt4dmj38",
        "outputId": "ad80bffe-c83a-4478-829c-3a57baa0e36c"
      },
      "outputs": [
        {
          "output_type": "stream",
          "name": "stdout",
          "text": [
            "Enter a number to find the factorial: 5\n",
            "120\n"
          ]
        }
      ],
      "source": [
        "# 1. Write a Python Program to Find the Factorial of a Number?\n",
        "n=int(input(\"Enter a number to find the factorial: \"))\n",
        "fact=1\n",
        "if n==0:\n",
        "  print(1)\n",
        "else:\n",
        "  for i in range(1,n+1):\n",
        "    fact=fact*i\n",
        "  print(fact)\n"
      ]
    },
    {
      "cell_type": "code",
      "source": [
        "# 2. Write a Python Program to Display the multiplication Table?\n",
        "n = int(input(\"Enter the number to show the multiplication table of: \"))\n",
        "for i in range(1,11):\n",
        "  print(f\"{n} x {i} = {n*i}\")\n",
        "\n"
      ],
      "metadata": {
        "colab": {
          "base_uri": "https://localhost:8080/"
        },
        "id": "noDpQy69qhGh",
        "outputId": "568dd50e-3559-4097-cc91-6958fe6fd581"
      },
      "execution_count": 9,
      "outputs": [
        {
          "output_type": "stream",
          "name": "stdout",
          "text": [
            "Enter the number to show the multiplication table of: 5\n",
            "5 x 1 = 5\n",
            "5 x 2 = 10\n",
            "5 x 3 = 15\n",
            "5 x 4 = 20\n",
            "5 x 5 = 25\n",
            "5 x 6 = 30\n",
            "5 x 7 = 35\n",
            "5 x 8 = 40\n",
            "5 x 9 = 45\n",
            "5 x 10 = 50\n"
          ]
        }
      ]
    },
    {
      "cell_type": "code",
      "source": [
        "3. Write a Python Program to Print the Fibonacci sequence?\n",
        "n = int(input(\"How many terms? \"))\n",
        "n1,n2 = 0, 1\n",
        "if n==0:\n",
        "  print(\"Enter a number greater than 0\")\n",
        "for i in range(n):\n",
        "  print(n1)\n",
        "  fib=n1+n2\n",
        "  n1=n2\n",
        "  n2=fib\n",
        "\n"
      ],
      "metadata": {
        "colab": {
          "base_uri": "https://localhost:8080/"
        },
        "id": "LnnQgSyM_nJK",
        "outputId": "7d0c82ff-4481-4636-ea57-45444f2bc669"
      },
      "execution_count": 17,
      "outputs": [
        {
          "name": "stdout",
          "output_type": "stream",
          "text": [
            "Object `sequence` not found.\n",
            "How many terms? 0\n"
          ]
        }
      ]
    },
    {
      "cell_type": "code",
      "source": [
        "4. Write a Python Program to Check Armstrong Number?\n",
        "n=input('Enter a number to check if Armstrong or not: ')\n",
        "arms=0\n",
        "for i in range(len(n)):\n",
        "  arms=arms + (int(n[i])**len(n))\n",
        "if arms==int(n):\n",
        "  print(\"Its a Armstrong number\")\n",
        "else:\n",
        "  print(\"Not a Armstrong number\")"
      ],
      "metadata": {
        "colab": {
          "base_uri": "https://localhost:8080/"
        },
        "id": "qyhv13XrBYhf",
        "outputId": "92c0d4bf-f734-4fef-bc41-325e53e79588"
      },
      "execution_count": 27,
      "outputs": [
        {
          "output_type": "stream",
          "name": "stdout",
          "text": [
            "Object `Number` not found.\n",
            "Enter a number to check if Armstrong or not: 370\n",
            "Its a Armstrong number\n"
          ]
        }
      ]
    },
    {
      "cell_type": "code",
      "source": [
        "# 5. Write a Python Program to Find Armstrong Number in an Interval?\n",
        "m =input(\"Enter start and end of an Interval seperated by space: \").split()\n",
        "\n",
        "n1 =int(m[0])\n",
        "n2 =int(m[1])\n",
        "for j in range(n1,n2):\n",
        "  arms=0\n",
        "  j=str(j)\n",
        "  for i in range(len(j)):\n",
        "    arms=arms + (int(j[i])**len(j))\n",
        "  if arms==int(j):\n",
        "    print(j)\n",
        "\n",
        "\n"
      ],
      "metadata": {
        "colab": {
          "base_uri": "https://localhost:8080/"
        },
        "id": "qld_VQLuCHQG",
        "outputId": "d56c372a-acc3-4395-8623-2111ecbf63b9"
      },
      "execution_count": 41,
      "outputs": [
        {
          "output_type": "stream",
          "name": "stdout",
          "text": [
            "Enter start and end of an Interval seperated by space: 3  400\n",
            "3\n",
            "4\n",
            "5\n",
            "6\n",
            "7\n",
            "8\n",
            "9\n",
            "153\n",
            "370\n",
            "371\n"
          ]
        }
      ]
    },
    {
      "cell_type": "code",
      "source": [
        "6. Write a Python Program to Find the Sum of Natural Numbers?\n",
        "n=int(input(\"Enter a number to which the sum of Natural number: \"))\n",
        "print(int((n*(n+1))/2))"
      ],
      "metadata": {
        "colab": {
          "base_uri": "https://localhost:8080/"
        },
        "id": "AHUz1r3RCJDn",
        "outputId": "2c3cf3ff-53aa-4aac-ac33-884bc9c5132e"
      },
      "execution_count": 45,
      "outputs": [
        {
          "output_type": "stream",
          "name": "stdout",
          "text": [
            "Object `Numbers` not found.\n",
            "Enter a number to which the sum of Natural number: 100\n",
            "5050\n"
          ]
        }
      ]
    }
  ]
}