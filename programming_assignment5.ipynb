{
  "nbformat": 4,
  "nbformat_minor": 0,
  "metadata": {
    "colab": {
      "name": "programming_assignment5.ipynb",
      "provenance": [],
      "authorship_tag": "ABX9TyP12CUT9De6QVH4ogYGuX+0",
      "include_colab_link": true
    },
    "kernelspec": {
      "name": "python3",
      "display_name": "Python 3"
    },
    "language_info": {
      "name": "python"
    }
  },
  "cells": [
    {
      "cell_type": "markdown",
      "metadata": {
        "id": "view-in-github",
        "colab_type": "text"
      },
      "source": [
        "<a href=\"https://colab.research.google.com/github/abdulrah77/ineuron_assignments/blob/main/programming_assignment5.ipynb\" target=\"_parent\"><img src=\"https://colab.research.google.com/assets/colab-badge.svg\" alt=\"Open In Colab\"/></a>"
      ]
    },
    {
      "cell_type": "code",
      "execution_count": null,
      "metadata": {
        "id": "hb2Mow_YEyDa"
      },
      "outputs": [],
      "source": [
        "# 1.\tWrite a Python Program to Find LCM?\n",
        "n=int(input(\"Enter first number: \"))\n",
        "m=int(input(\"Enter second number: \"))\n",
        "flag=True\n",
        "if n>m:\n",
        "  greater =n\n",
        "else:\n",
        "  greater=m\n",
        "while(flag):\n",
        "  if(greater%n==0)and (greater%m==0):\n",
        "    lcm=greater\n",
        "    print(f\"LCM is {lcm}\")\n",
        "    flag=False\n",
        "  greater +=1\n"
      ]
    },
    {
      "cell_type": "code",
      "source": [
        "# 2.\tWrite a Python Program to Find HCF?\n",
        "\n",
        "n=int(input(\"Enter first number: \"))\n",
        "m=int(input(\"Enter second number: \"))\n",
        "\n",
        "if n>m:\n",
        "  smaller =n\n",
        "else:\n",
        "  smaller=m\n",
        "\n",
        "for i in range(1,smaller+1):\n",
        "  if(n%i==0)and (m%i==0):\n",
        "    hcf=i\n",
        "print(f\"The HCF of the given number is: {hcf}\")"
      ],
      "metadata": {
        "id": "sCI6btXULoPn"
      },
      "execution_count": null,
      "outputs": []
    },
    {
      "cell_type": "code",
      "source": [
        "# 3.\tWrite a Python Program to Convert Decimal to Binary, Octal and Hexadecimal?\n",
        "n=int(input(\"Enter to be converted to Binary, Octal and Hexadecimal: \"))\n",
        "print(f\"Given decimal is: {n}\")\n",
        "print(f\"Binary value: {bin(n)}\")\n",
        "print(f\"Octal value: {oct(n)}\")\n",
        "print(f\"Hexa value: {hex(n)}\")"
      ],
      "metadata": {
        "colab": {
          "base_uri": "https://localhost:8080/"
        },
        "id": "1zuByslNLWna",
        "outputId": "091427c5-8fd4-4097-bca8-86fce1543910"
      },
      "execution_count": 12,
      "outputs": [
        {
          "output_type": "stream",
          "name": "stdout",
          "text": [
            "Enter to be converted to Binary, Octal and Hexadecimal: 1\n",
            "Given decimal is: 1\n",
            "Binary value: 0b1\n",
            "Octal value: 0o1\n",
            "Hexa value: 0x1\n"
          ]
        }
      ]
    },
    {
      "cell_type": "code",
      "source": [
        "# 4.\tWrite a Python Program To Find ASCII value of a character?\n",
        "n=input(\"Enter a value to know its ASCII value: \")\n",
        "print(ord(n))\n"
      ],
      "metadata": {
        "colab": {
          "base_uri": "https://localhost:8080/"
        },
        "id": "5GQzUUZGPQls",
        "outputId": "3ac7d005-c693-440d-df0b-210c56716364"
      },
      "execution_count": 16,
      "outputs": [
        {
          "output_type": "stream",
          "name": "stdout",
          "text": [
            "Enter a value to know its ASCII value: A\n",
            "65\n"
          ]
        }
      ]
    },
    {
      "cell_type": "code",
      "source": [
        "# 5.\tWrite a Python Program to Make a Simple Calculator with 4 basic mathematical operations?\n",
        "print(\"---Calcualtor---\")\n",
        "def add():\n",
        "    return n+m\n",
        "def subs():\n",
        "    return n-m\n",
        "def prod():\n",
        "    return n*m\n",
        "def div():\n",
        "    return m/n\n",
        "def rem():\n",
        "    return m%n\n",
        "    \n",
        "n=float(input(\"First Value: \"))\n",
        "flag= True\n",
        "while(flag):\n",
        "  m=float(input(\"Next Value: \"))\n",
        "  op ={ '+': add(), '-': subs(),'*': prod(),'/': div(),'%': rem()}\n",
        "  ans=op.get(input(\"Choose an opertion /,*,-,+,%: \"))\n",
        "  print(ans)\n",
        "  res= input(\"Would you like to continue y/n: \").lower()\n",
        "  if res=='y':\n",
        "    n=ans\n",
        "  elif res=='n':\n",
        "    print(\"Thank you!!\")\n",
        "    flag=False\n",
        "    break\n",
        "  else:\n",
        "    print(\"Enter y or n\")\n",
        "    \n",
        "    \n",
        "\n"
      ],
      "metadata": {
        "colab": {
          "base_uri": "https://localhost:8080/"
        },
        "id": "D0L1hmvoPRwY",
        "outputId": "ca2a8f53-b2cf-417f-b3a0-0f4a295935ce"
      },
      "execution_count": 23,
      "outputs": [
        {
          "output_type": "stream",
          "name": "stdout",
          "text": [
            "---Calcualtor---\n",
            "First Value: 12\n",
            "Next Value: 15\n",
            "Choose an opertion /,*,-,+,%: +\n",
            "27.0\n",
            "Would you like to continue y/n: y\n",
            "Next Value: 5\n",
            "Choose an opertion /,*,-,+,%: +\n",
            "32.0\n",
            "Would you like to continue y/n: n\n",
            "Thank you!!\n"
          ]
        }
      ]
    }
  ]
}