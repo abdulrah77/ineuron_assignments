{
 "cells": [
  {
   "cell_type": "code",
   "execution_count": null,
   "metadata": {},
   "outputs": [],
   "source": [
    "\n"
   ]
  },
  {
   "attachments": {},
   "cell_type": "markdown",
   "metadata": {},
   "source": [
    "1. What is the relationship between def statements and lambda expressions ?\n",
    " def statements are used to define functions with a name, while lambda expressions are used to define anonymous functions\n",
    "\n",
    "2. What is the benefit of lambda?\n",
    "The benefit of using lambda is that it allows for the creation of simple functions without having to define a named function. It is used for simple functions that are not expected to be reused.\n",
    "\n",
    "3. Compare and contrast map, filter, and reduce.\n",
    "map, filter, and reduce are all higher-order functions in Python that operate on iterable objects.\n",
    "\n",
    "-> map applies a given function to each element of an iterable and returns an iterator of the results.\n",
    "-> filter applies a given predicate function to each element of an iterable and returns an iterator of the elements that satisfy the predicate.\n",
    "-> reduce applies a given function to the elements of an iterable in a cumulative way, returning a single value.\n",
    "\n",
    "4. What are function annotations, and how are they used?\n",
    "Function annotations are a way to add metadata to function arguments and return values. They are defined using a colon after the argument or return value followed by the annotation type. Annotations are not enforced by the Python interpreter and are primarily used for documentation purposes.\n",
    "\n",
    "5. What are recursive functions, and how are they used?\n",
    "Recursive functions are functions that call themselves as part of their execution. They are used to solve problems that can be broken down into smaller sub-problems. A recursive function must have a base case that will terminate the recursion, and a recursive case that will call itself with a smaller sub-problem.\n",
    "\n",
    "6. What are some general design guidelines for coding functions?\n",
    "Functions should be designed to do one thing and do it well.\n",
    "It should have a clear and descriptive name that accurately reflects what they do.\n",
    "It should have a clear input and output, and should not modify any data outside of their scope.\n",
    "It should be designed to be reusable and not be too specific to a particular use case.\n",
    "It should be modular and easy to test and debug.\n",
    "\n",
    "7. Name three or more ways that functions can communicate results to a caller.\n",
    "Return values: Functions can return values to the caller using the return statement.\n",
    "Print statement: A function can use the print statement to display a result to the user. However, the print statement does not actually return a value that can be used by the caller.\n",
    "Exceptions: Functions can raise exceptions to communicate error conditions to the caller.\n",
    "Yield statement: A function can use the yield statement to return a generator object that generates a sequence of values. The caller can iterate over the generator to get the values.\n"
   ]
  }
 ],
 "metadata": {
  "kernelspec": {
   "display_name": "testenv",
   "language": "python",
   "name": "python3"
  },
  "language_info": {
   "codemirror_mode": {
    "name": "ipython",
    "version": 3
   },
   "file_extension": ".py",
   "mimetype": "text/x-python",
   "name": "python",
   "nbconvert_exporter": "python",
   "pygments_lexer": "ipython3",
   "version": "3.11.2"
  },
  "orig_nbformat": 4
 },
 "nbformat": 4,
 "nbformat_minor": 2
}
