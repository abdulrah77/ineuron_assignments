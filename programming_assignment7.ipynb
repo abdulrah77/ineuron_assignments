{
  "nbformat": 4,
  "nbformat_minor": 0,
  "metadata": {
    "colab": {
      "name": "programming_assignment7.ipynb",
      "provenance": [],
      "authorship_tag": "ABX9TyO5tKJ2boO5PL3VMurLiCE3",
      "include_colab_link": true
    },
    "kernelspec": {
      "name": "python3",
      "display_name": "Python 3"
    },
    "language_info": {
      "name": "python"
    }
  },
  "cells": [
    {
      "cell_type": "markdown",
      "metadata": {
        "id": "view-in-github",
        "colab_type": "text"
      },
      "source": [
        "<a href=\"https://colab.research.google.com/github/abdulrah77/ineuron_assignments/blob/main/programming_assignment7.ipynb\" target=\"_parent\"><img src=\"https://colab.research.google.com/assets/colab-badge.svg\" alt=\"Open In Colab\"/></a>"
      ]
    },
    {
      "cell_type": "code",
      "execution_count": 1,
      "metadata": {
        "id": "6UW--YmAzETu",
        "colab": {
          "base_uri": "https://localhost:8080/"
        },
        "outputId": "74ffd292-09c6-4db6-c205-abd777ade9e4"
      },
      "outputs": [
        {
          "output_type": "stream",
          "name": "stdout",
          "text": [
            "Sum of the array is: 80\n"
          ]
        }
      ],
      "source": [
        "# 1. Write a Python Program to find sum of array?\n",
        "arr=[12,15,42,5,6]\n",
        "m=0\n",
        "for i in range(len(arr)):\n",
        "  m=m+arr[i]\n",
        "print(f\"Sum of the array is: {m}\")\n"
      ]
    },
    {
      "cell_type": "code",
      "source": [
        "# 2. Write a Python Program to find largest element in an array?\n",
        "arr=[12,15,42,5,6]\n",
        "max(arr)"
      ],
      "metadata": {
        "colab": {
          "base_uri": "https://localhost:8080/"
        },
        "id": "c7gSTdgzAVrb",
        "outputId": "bdfa8e87-6713-45d7-da7e-b895d07e8842"
      },
      "execution_count": 2,
      "outputs": [
        {
          "output_type": "execute_result",
          "data": {
            "text/plain": [
              "42"
            ]
          },
          "metadata": {},
          "execution_count": 2
        }
      ]
    },
    {
      "cell_type": "code",
      "source": [
        "# 3. Write a Python Program for array rotation?\n",
        "arr=[1, 2, 3, 4, 5, 6]\n",
        "d=2\n",
        "for i in range(d):\n",
        "  arr.append(arr[0])\n",
        "  arr.pop(0)\n",
        "arr\n"
      ],
      "metadata": {
        "colab": {
          "base_uri": "https://localhost:8080/"
        },
        "id": "24I6XnNjBAal",
        "outputId": "e3787358-a071-4b2a-f48b-be22066c2959"
      },
      "execution_count": 4,
      "outputs": [
        {
          "output_type": "execute_result",
          "data": {
            "text/plain": [
              "[3, 4, 5, 6, 1, 2]"
            ]
          },
          "metadata": {},
          "execution_count": 4
        }
      ]
    },
    {
      "cell_type": "code",
      "source": [
        "# 4. Write a Python Program to Split the array and add the first part to the end?\n",
        "arr=[1, 2, 3, 4, 5, 6]\n",
        "d=3\n",
        "for i in range(d):\n",
        "  arr.append(arr[0])\n",
        "  arr.pop(0)\n",
        "arr\n"
      ],
      "metadata": {
        "colab": {
          "base_uri": "https://localhost:8080/"
        },
        "id": "A2fMMMWsJe7G",
        "outputId": "5111eb3c-cd28-4819-b9fa-b2be8317f343"
      },
      "execution_count": 5,
      "outputs": [
        {
          "output_type": "execute_result",
          "data": {
            "text/plain": [
              "[4, 5, 6, 1, 2, 3]"
            ]
          },
          "metadata": {},
          "execution_count": 5
        }
      ]
    },
    {
      "cell_type": "code",
      "source": [
        "# 5. Write a Python Program to check if given array is Monotonic?\n",
        "def is_monotonic(arr):\n",
        "  return (all(arr[i]<=arr[i+1] for i in range(len(arr)))) or  (all(arr[i]>=arr[i-1] for i in range(len(arr))))\n",
        "    \n",
        "arr=[4, 5, 6, 1, 2, 3]\n",
        "print(is_monotonic(arr))"
      ],
      "metadata": {
        "colab": {
          "base_uri": "https://localhost:8080/"
        },
        "id": "rnRA-6xxJ3nS",
        "outputId": "8f8d9f59-44fd-43ab-fe92-11c1c27fb302"
      },
      "execution_count": 11,
      "outputs": [
        {
          "output_type": "stream",
          "name": "stdout",
          "text": [
            "False\n"
          ]
        }
      ]
    }
  ]
}