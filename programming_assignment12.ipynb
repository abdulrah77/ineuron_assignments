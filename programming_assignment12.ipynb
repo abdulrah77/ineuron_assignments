{
 "cells": [
  {
   "cell_type": "code",
   "execution_count": null,
   "metadata": {},
   "outputs": [],
   "source": [
    "# 1.\tWrite a Python program to Extract Unique values dictionary values?\n",
    "my_dict = {'a': [1, 2, 3], 'b': [2, 4, 6], 'c': [3, 5, 7]}\n",
    "\n",
    "values = []\n",
    "\n",
    "# Extract unique values from dictionary values\n",
    "[values.extend(val) for val in my_dict.values() ]\n",
    "\n",
    "# Print unique values\n",
    "print(set(values))\n",
    "\n",
    "# 2.\tWrite a Python program to find the sum of all items in a dictionary?\n",
    "d = {'a': 10, 'b': 20, 'c': 30}\n",
    "sum = 0\n",
    "for value in d.values():\n",
    "    sum += value\n",
    "print(\"The sum of all items in the dictionary is:\", sum)\n",
    "\n",
    "\n",
    "# 3.\tWrite a Python program to Merging two Dictionaries?\n",
    "dict1 = {'a': 100, 'b': 200}\n",
    "dict2 = {'c': 300, 'd': 400}\n",
    "\n",
    "merged_dict = {**dict1, ** dict2}\n",
    "print(merged_dict)\n",
    "\n",
    "# 4.\tWrite a Python program to convert key-values list to flat dictionary?\n",
    "\n",
    "key_value_pairs = [('a', 1), ('b', 2), ('c', 3)]\n",
    "\n",
    "for key, values in enumerate(key_value_pairs):\n",
    "    print(key, values)\n",
    "\n",
    "# 5.\tWrite a Python program to insertion at the beginning in OrderedDict?\n",
    "from collections import OrderedDict\n",
    "\n",
    "od = OrderedDict()\n",
    "\n",
    "od['a']=1\n",
    "od['b']=2\n",
    "od['c']=3\n",
    "print(od)\n",
    "od.update({'x':0})\n",
    "od.move_to_end('x', last = False)\n",
    "\n",
    "print(od)\n",
    "\n",
    "# 6.\tWrite a Python program to check order of character in string using OrderedDict()?\n",
    "from collections import OrderedDict\n",
    "def check_order(my_input, my_pattern):\n",
    "   my_dict = OrderedDict.fromkeys(my_input)\n",
    "   pattern_length = 0\n",
    "   for key,value in my_dict.items():\n",
    "      if (key == my_pattern[pattern_length]):\n",
    "         pattern_length = pattern_length + 1\n",
    "\n",
    "      if (pattern_length == (len(my_pattern))):\n",
    "         return 'The order of pattern is correct'\n",
    "\n",
    "   return 'The order of pattern is incorrect'\n",
    "\n",
    "my_input = 'hello world'\n",
    "input_pattern = 'lo'\n",
    "\n",
    "print(check_order(my_input,input_pattern))\n",
    "\n",
    "\n",
    "\n",
    "# 7.\tWrite a Python program to sort Python Dictionaries by Key or Value?\n",
    "\n",
    "myDict = {'ravi': 10, 'rajnish': 9,\n",
    "        'sanjeev': 15, 'yash': 2, 'suraj': 32}\n",
    "\n",
    "sortedDict = { i: myDict[i] for i in sorted(myDict.keys())}\n",
    "\n",
    "print(sortedDict)\n"
   ]
  },
  {
   "cell_type": "code",
   "execution_count": 15,
   "metadata": {},
   "outputs": [
    {
     "name": "stdout",
     "output_type": "stream",
     "text": [
      "{'rajnish': 9, 'ravi': 10, 'sanjeev': 15, 'suraj': 32, 'yash': 2}\n"
     ]
    }
   ],
   "source": [
    "\n"
   ]
  },
  {
   "cell_type": "code",
   "execution_count": 2,
   "metadata": {},
   "outputs": [
    {
     "name": "stdout",
     "output_type": "stream",
     "text": [
      "<generator object follows_pattern at 0x000001399A21F540>\n",
      "<generator object follows_pattern at 0x000001399A21F540>\n"
     ]
    }
   ],
   "source": [
    "from collections import OrderedDict\n",
    "\n",
    "def follows_pattern(string, pattern):\n",
    "    pattern_chars = OrderedDict.fromkeys(pattern)\n",
    "    pattern_index = 0\n",
    "    for char in string:\n",
    "        yield char\n",
    "    for char in string:\n",
    "        if char == pattern[pattern_index]:\n",
    "            pattern_index += 1\n",
    "        if pattern_index == len(pattern_chars):\n",
    "            return True\n",
    "        if char in pattern_chars:\n",
    "            del pattern_chars[char]\n",
    "    return False\n",
    "\n",
    "# Example usage:\n",
    "print(follows_pattern('hello world', 'ello')) # True\n",
    "print(follows_pattern('hello world', 'hw')) # False\n",
    "\n",
    "\n"
   ]
  },
  {
   "cell_type": "code",
   "execution_count": 31,
   "metadata": {},
   "outputs": [
    {
     "data": {
      "text/plain": [
       "2"
      ]
     },
     "execution_count": 31,
     "metadata": {},
     "output_type": "execute_result"
    }
   ],
   "source": [
    "len('hw')"
   ]
  },
  {
   "cell_type": "code",
   "execution_count": 56,
   "metadata": {},
   "outputs": [],
   "source": [
    "def test(string):\n",
    "    for char in string:\n",
    "        yield char"
   ]
  },
  {
   "cell_type": "code",
   "execution_count": 6,
   "metadata": {},
   "outputs": [
    {
     "name": "stdout",
     "output_type": "stream",
     "text": [
      "The order of pattern is correct\n"
     ]
    }
   ],
   "source": [
    "from collections import OrderedDict\n",
    "def check_order(my_input, my_pattern):\n",
    "   my_dict = OrderedDict.fromkeys(my_input)\n",
    "   pattern_length = 0\n",
    "   for key,value in my_dict.items():\n",
    "      if (key == my_pattern[pattern_length]):\n",
    "         pattern_length = pattern_length + 1\n",
    "\n",
    "      if (pattern_length == (len(my_pattern))):\n",
    "         return 'The order of pattern is correct'\n",
    "\n",
    "   return 'The order of pattern is incorrect'\n",
    "\n",
    "my_input = 'hello world'\n",
    "input_pattern = 'lo'\n",
    "\n",
    "print(check_order(my_input,input_pattern))"
   ]
  },
  {
   "cell_type": "code",
   "execution_count": 88,
   "metadata": {},
   "outputs": [
    {
     "name": "stdout",
     "output_type": "stream",
     "text": [
      "r 0\n",
      "l 1\n",
      "True\n"
     ]
    },
    {
     "ename": "IndexError",
     "evalue": "string index out of range",
     "output_type": "error",
     "traceback": [
      "\u001b[1;31m---------------------------------------------------------------------------\u001b[0m",
      "\u001b[1;31mIndexError\u001b[0m                                Traceback (most recent call last)",
      "Cell \u001b[1;32mIn[88], line 7\u001b[0m\n\u001b[0;32m      5\u001b[0m \u001b[39mfor\u001b[39;00m i \u001b[39min\u001b[39;00m \u001b[39mrange\u001b[39m(\u001b[39mlen\u001b[39m(\u001b[39m'\u001b[39m\u001b[39mhello world\u001b[39m\u001b[39m'\u001b[39m)):\n\u001b[0;32m      6\u001b[0m     char \u001b[39m=\u001b[39m \u001b[39mnext\u001b[39m(te)\n\u001b[1;32m----> 7\u001b[0m     \u001b[39mif\u001b[39;00m  char \u001b[39m==\u001b[39m pattern[index]:\n\u001b[0;32m      8\u001b[0m         \u001b[39mprint\u001b[39m(char, index)\n\u001b[0;32m      9\u001b[0m         index\u001b[39m=\u001b[39m index \u001b[39m+\u001b[39m \u001b[39m1\u001b[39m\n",
      "\u001b[1;31mIndexError\u001b[0m: string index out of range"
     ]
    }
   ],
   "source": [
    "def test(string):\n",
    "    for char in string:\n",
    "        yield char\n",
    "\n",
    "        \n",
    "pattern = 'rl'\n",
    "te = test('hello world')\n",
    "index=0\n",
    "\n",
    "def checkOrder(string, pattern)\n",
    "    for i in range(len('hello world')):\n",
    "        char = next(te)\n",
    "        if  char == pattern[index]:\n",
    "            print(char, index)\n",
    "            index= index + 1\n",
    "            \n",
    "        if index == len(pattern):\n",
    "            return (True)\n",
    "\n",
    "    return (False)\n"
   ]
  },
  {
   "cell_type": "code",
   "execution_count": 79,
   "metadata": {},
   "outputs": [
    {
     "data": {
      "text/plain": [
       "1"
      ]
     },
     "execution_count": 79,
     "metadata": {},
     "output_type": "execute_result"
    }
   ],
   "source": [
    "len([pattern])"
   ]
  },
  {
   "cell_type": "code",
   "execution_count": null,
   "metadata": {},
   "outputs": [],
   "source": [
    "pattern[0]\n"
   ]
  }
 ],
 "metadata": {
  "kernelspec": {
   "display_name": "venv",
   "language": "python",
   "name": "python3"
  },
  "language_info": {
   "codemirror_mode": {
    "name": "ipython",
    "version": 3
   },
   "file_extension": ".py",
   "mimetype": "text/x-python",
   "name": "python",
   "nbconvert_exporter": "python",
   "pygments_lexer": "ipython3",
   "version": "3.11.2"
  },
  "orig_nbformat": 4,
  "vscode": {
   "interpreter": {
    "hash": "291e03654454a4fcd0c4faadd7f77eb17a3c865a8c265206f5e738c5ee7985e7"
   }
  }
 },
 "nbformat": 4,
 "nbformat_minor": 2
}
