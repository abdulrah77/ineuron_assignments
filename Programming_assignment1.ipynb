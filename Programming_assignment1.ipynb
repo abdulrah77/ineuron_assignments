{
  "nbformat": 4,
  "nbformat_minor": 0,
  "metadata": {
    "colab": {
      "name": "Programming_assignment1.ipynb",
      "provenance": [],
      "authorship_tag": "ABX9TyPU2KetcYFbyMVcsSjGwsoB",
      "include_colab_link": true
    },
    "kernelspec": {
      "name": "python3",
      "display_name": "Python 3"
    },
    "language_info": {
      "name": "python"
    }
  },
  "cells": [
    {
      "cell_type": "markdown",
      "metadata": {
        "id": "view-in-github",
        "colab_type": "text"
      },
      "source": [
        "<a href=\"https://colab.research.google.com/github/abdulrah77/ineuron_assignments/blob/main/Programming_assignment1.ipynb\" target=\"_parent\"><img src=\"https://colab.research.google.com/assets/colab-badge.svg\" alt=\"Open In Colab\"/></a>"
      ]
    },
    {
      "cell_type": "code",
      "source": [
        "# 1.\tWrite a Python program to print \"Hello Python\"?\n",
        "print(\"Hello\")\n"
      ],
      "metadata": {
        "colab": {
          "base_uri": "https://localhost:8080/"
        },
        "id": "7w6SnpXqwxmS",
        "outputId": "c5443c95-f467-40a0-aef7-52f41588b27b"
      },
      "execution_count": 1,
      "outputs": [
        {
          "output_type": "stream",
          "name": "stdout",
          "text": [
            "Hello\n"
          ]
        }
      ]
    },
    {
      "cell_type": "code",
      "source": [
        "# 2.\tWrite a Python program to do arithmetical operations addition and division.?\n",
        "print((4+5)/3)\n"
      ],
      "metadata": {
        "colab": {
          "base_uri": "https://localhost:8080/"
        },
        "id": "zuhkXSeVw8D_",
        "outputId": "9b7f3636-013a-4454-8e81-153923498b60"
      },
      "execution_count": 2,
      "outputs": [
        {
          "output_type": "stream",
          "name": "stdout",
          "text": [
            "3.0\n"
          ]
        }
      ]
    },
    {
      "cell_type": "code",
      "source": [
        "# 3.\tWrite a Python program to find the area of a triangle?\n",
        "length=  float(input(\"Enter length of the triangle: \"))\n",
        "base =  float(input(\"Enter base of triangle: \"))\n",
        "print( .5*(length*base))\n"
      ],
      "metadata": {
        "colab": {
          "base_uri": "https://localhost:8080/"
        },
        "id": "Ff6lzKddxF8I",
        "outputId": "f4dd2ac1-5339-4b51-dd17-17eb85a7b394"
      },
      "execution_count": 17,
      "outputs": [
        {
          "output_type": "stream",
          "name": "stdout",
          "text": [
            "Enter length of the triangle: 15\n",
            "Enter base of triangle: 12\n",
            "90.0\n"
          ]
        }
      ]
    },
    {
      "cell_type": "code",
      "source": [
        "# 4.\tWrite a Python program to swap two variables?\n",
        "a= 5\n",
        "b=10\n",
        "temp =a\n",
        "a=b\n",
        "b=temp\n",
        "print(a,b)\n"
      ],
      "metadata": {
        "colab": {
          "base_uri": "https://localhost:8080/"
        },
        "id": "SjtxK8ZHxode",
        "outputId": "7dcfd731-1961-4a52-f526-32a73b407996"
      },
      "execution_count": 13,
      "outputs": [
        {
          "output_type": "stream",
          "name": "stdout",
          "text": [
            "10 5\n"
          ]
        }
      ]
    },
    {
      "cell_type": "code",
      "source": [
        "# 5.\tWrite a Python program to generate a random number?\n",
        "import random\n",
        "random.randint(1,1000)"
      ],
      "metadata": {
        "colab": {
          "base_uri": "https://localhost:8080/"
        },
        "id": "f-bKq0YMx2ZI",
        "outputId": "67a1b63b-05da-49f8-e165-290c76f1c565"
      },
      "execution_count": 14,
      "outputs": [
        {
          "output_type": "execute_result",
          "data": {
            "text/plain": [
              "497"
            ]
          },
          "metadata": {},
          "execution_count": 14
        }
      ]
    }
  ]
}