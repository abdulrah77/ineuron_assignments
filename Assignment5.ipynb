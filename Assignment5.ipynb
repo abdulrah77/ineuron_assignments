{
  "nbformat": 4,
  "nbformat_minor": 0,
  "metadata": {
    "colab": {
      "name": "Assignment5.ipynb",
      "provenance": [],
      "authorship_tag": "ABX9TyNv6paxdkqVwU2+9TqV5AMS",
      "include_colab_link": true
    },
    "kernelspec": {
      "name": "python3",
      "display_name": "Python 3"
    },
    "language_info": {
      "name": "python"
    }
  },
  "cells": [
    {
      "cell_type": "markdown",
      "metadata": {
        "id": "view-in-github",
        "colab_type": "text"
      },
      "source": [
        "<a href=\"https://colab.research.google.com/github/abdulrah77/ineuron_assignments/blob/main/Assignment5.ipynb\" target=\"_parent\"><img src=\"https://colab.research.google.com/assets/colab-badge.svg\" alt=\"Open In Colab\"/></a>"
      ]
    },
    {
      "cell_type": "markdown",
      "source": [
        "1. What does an empty dictionary's code look like?\n",
        "dict ={}\n",
        "\n",
        "2. What is the value of a dictionary value with the key 'foo' and the value 42?\n",
        "{'foo':42}\n",
        "value: 42\n",
        "\n",
        "3. What is the most significant distinction between a dictionary and a list?\n",
        "Lists are ordered, dictionaries are unordered\n",
        "\n",
        "4. What happens if you try to access spam['foo'] if spam is {'bar': 100}?\n",
        "We get a key error, as that key is not present in the dictionary.\n",
        "\n",
        "5. If a dictionary is stored in spam, what is the difference between the expressions 'cat' in spam and 'cat' in spam.keys()?\n",
        "No differnce, both checks if 'cat' is key of the dictionary and if its a key, returns True.\n",
        "\n",
        "6. If a dictionary is stored in spam, what is the difference between the expressions 'cat' in spam and 'cat' in spam.values()?\n",
        "cat' in spam checks if there is a 'cat' key in the dictionary\n",
        "'cat' in spam.values() checks if there is a value 'cat' for one of the keys in spam.\n",
        "\n",
        "7. What is a shortcut for the following code?\n",
        "if 'color' not in spam:\n",
        "  spam['color'] = 'black'\n",
        "\n",
        "spam.setdefault('color','black')\n",
        "\n",
        "8. How do you \"pretty print\" dictionary values using which module and function?\n",
        "import pprint\n",
        "pprint.pprint(var)\n"
      ],
      "metadata": {
        "id": "8pS2NOh1JOw7"
      }
    }
  ]
}