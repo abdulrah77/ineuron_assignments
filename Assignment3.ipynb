{
  "nbformat": 4,
  "nbformat_minor": 0,
  "metadata": {
    "colab": {
      "name": "Assignment3.ipynb",
      "provenance": [],
      "authorship_tag": "ABX9TyPf/cfQCZh5SDW089Mzt3NZ",
      "include_colab_link": true
    },
    "kernelspec": {
      "name": "python3",
      "display_name": "Python 3"
    },
    "language_info": {
      "name": "python"
    }
  },
  "cells": [
    {
      "cell_type": "markdown",
      "metadata": {
        "id": "view-in-github",
        "colab_type": "text"
      },
      "source": [
        "<a href=\"https://colab.research.google.com/github/abdulrah77/ineuron_assignments/blob/main/Assignment3.ipynb\" target=\"_parent\"><img src=\"https://colab.research.google.com/assets/colab-badge.svg\" alt=\"Open In Colab\"/></a>"
      ]
    },
    {
      "cell_type": "markdown",
      "source": [
        "1. Why are functions advantageous to have in your programs?\n",
        "Functions can run same code many times, it can break the program into smaller chunks.\n",
        "\n",
        "2. When does the code in a function run: when it's specified or when it's called?\n",
        "Function run when its called\n",
        "\n",
        "3. What statement creates a function?\n",
        "def func():\n",
        "  pass\n",
        "4. What is the difference between a function and a function call?\n",
        "A function has the code to run a task, where as the function call executes the task\n",
        "\n",
        "5. How many global scopes are there in a Python program? How many local scopes?\n",
        "One Global scope and one local scope\n",
        "\n",
        "6. What happens to variables in a local scope when the function call returns?\n",
        "variable is expired once the once the function call returns\n",
        "\n",
        "7. What is the concept of a return value? Is it possible to have a return value in an expression?\n",
        "when a result of fucntion is required, that data is sent back as a return value.\n",
        "And yes, it is possible to have a return value in expression. Though the evaluated data is sent back.\n",
        "\n",
        "8. If a function does not have a return statement, what is the return value of a call to that function?\n",
        "None\n",
        "\n",
        "9. How do you make a function variable refer to the global variable?\n",
        "using the global keyword\n",
        "\n",
        "10. What is the data type of None?\n",
        "Data type of the object None is nonetype\n",
        "\n",
        "11. What does the sentence import areallyourpetsnamederic do?\n",
        "imports a module called areallyourpetsnamederic\n",
        "\n",
        "12. If you had a bacon() feature in a spam module, what would you call it after importing spam?\n",
        "import spam\n",
        "spam.bacon()\n",
        "bacon() is called a method\n",
        "\n",
        "13. What can you do to save a programme from crashing if it encounters an error?\n",
        "Use try and except\n",
        "\n",
        "14. What is the purpose of the try clause? What is the purpose of the except clause?\n",
        "Try is to test code for expected error\n",
        "except is to run to handle error\n"
      ],
      "metadata": {
        "id": "2ijSDTS5j7Hl"
      }
    }
  ]
}