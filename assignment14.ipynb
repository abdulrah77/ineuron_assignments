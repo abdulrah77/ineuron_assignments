{
 "cells": [
  {
   "cell_type": "code",
   "execution_count": null,
   "metadata": {},
   "outputs": [],
   "source": [
    "# !pip install Pillow"
   ]
  },
  {
   "cell_type": "code",
   "execution_count": 3,
   "metadata": {},
   "outputs": [],
   "source": [
    "from PIL import Image, ImageDraw\n",
    "\n",
    "img = Image.new('RGBA', (200, 200), 'white')\n",
    "draw = ImageDraw.Draw(img)\n",
    "\n"
   ]
  },
  {
   "attachments": {},
   "cell_type": "markdown",
   "metadata": {},
   "source": [
    "1.What does RGBA stand for?\n",
    "RGBA stands for Red Green Blue Alpha. It is a color model used in digital image processing to represent colors with four values: red, green, blue, and alpha (transparency)."
   ]
  },
  {
   "attachments": {},
   "cell_type": "markdown",
   "metadata": {},
   "source": [
    "2.From the Pillow module, how do you get the RGBA value of any images?\n",
    "You can get the RGBA value of any image using the getpixel() method from the Image module of the Pillow library. This method returns a tuple of four values (R, G, B, A) representing the color values of the pixel at the specified coordinates."
   ]
  },
  {
   "attachments": {},
   "cell_type": "markdown",
   "metadata": {},
   "source": [
    "3.What is a box tuple, and how does it work?\n",
    "A box tuple is a tuple containing four integers representing the coordinates of a rectangular region within an image. The tuple has the format (left, upper, right, lower), where left is the x-coordinate of the leftmost edge of the rectangle, upper is the y-coordinate of the top edge of the rectangle, right is the x-coordinate of the rightmost edge of the rectangle, and lower is the y-coordinate of the bottom edge of the rectangle."
   ]
  },
  {
   "attachments": {},
   "cell_type": "markdown",
   "metadata": {},
   "source": [
    "4.Use your image and load in notebook then, How can you find out the width and height of an Image object?   "
   ]
  },
  {
   "cell_type": "code",
   "execution_count": 6,
   "metadata": {},
   "outputs": [],
   "source": [
    "img = Image.open(\"img.png\")\n",
    "width, height = img.size"
   ]
  },
  {
   "attachments": {},
   "cell_type": "markdown",
   "metadata": {},
   "source": [
    "5.What method would you call to get Image object for a 100×100 image, excluding the lower-left quarter of it?"
   ]
  },
  {
   "cell_type": "code",
   "execution_count": 7,
   "metadata": {},
   "outputs": [],
   "source": [
    "img_cropped = img.crop((0, 50, 50, 100)) "
   ]
  },
  {
   "attachments": {},
   "cell_type": "markdown",
   "metadata": {},
   "source": [
    "6.After making changes to an Image object, how could you save it as an image file?"
   ]
  },
  {
   "cell_type": "code",
   "execution_count": null,
   "metadata": {},
   "outputs": [],
   "source": [
    "img.save('output.png')\n"
   ]
  },
  {
   "attachments": {},
   "cell_type": "markdown",
   "metadata": {},
   "source": [
    "7.What module contains Pillow’s shape-drawing code?\n",
    "ImageDraw  module contains Pillow’s shape-drawing code"
   ]
  },
  {
   "cell_type": "code",
   "execution_count": 16,
   "metadata": {},
   "outputs": [],
   "source": [
    "w, h = 220, 190\n",
    "shape = [(40, 40), (w - 10, h - 10)]\n",
    "  \n",
    "# creating new Image object\n",
    "img = Image.new(\"RGB\", (w, h))\n",
    "  \n",
    "# create line image\n",
    "img1 = ImageDraw.Draw(img)  \n",
    "img1.line(shape, fill =\"blue\", width = 0)\n",
    "img.show()"
   ]
  },
  {
   "attachments": {},
   "cell_type": "markdown",
   "metadata": {},
   "source": [
    "8.Image objects do not have drawing methods. What kind of object does? How do you get this kind of object?\n",
    "\n",
    " ImageDraw object has drawing methods"
   ]
  },
  {
   "cell_type": "code",
   "execution_count": 18,
   "metadata": {},
   "outputs": [],
   "source": [
    "w, h = 220, 190\n",
    "shape = [(40, 40), (w - 10, h - 10)]\n",
    "  \n",
    "# creating new Image object\n",
    "img = Image.new(\"RGB\", (w, h))\n",
    "  \n",
    "# create line image\n",
    "img2 = ImageDraw.Draw(img)  \n",
    "img2.rectangle(shape, fill =\"blue\", width = 0)\n",
    "img.show()"
   ]
  },
  {
   "cell_type": "code",
   "execution_count": null,
   "metadata": {},
   "outputs": [],
   "source": []
  }
 ],
 "metadata": {
  "kernelspec": {
   "display_name": "testenv",
   "language": "python",
   "name": "python3"
  },
  "language_info": {
   "codemirror_mode": {
    "name": "ipython",
    "version": 3
   },
   "file_extension": ".py",
   "mimetype": "text/x-python",
   "name": "python",
   "nbconvert_exporter": "python",
   "pygments_lexer": "ipython3",
   "version": "3.11.2"
  },
  "orig_nbformat": 4
 },
 "nbformat": 4,
 "nbformat_minor": 2
}
