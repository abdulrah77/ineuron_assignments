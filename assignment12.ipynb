{
 "cells": [
  {
   "attachments": {},
   "cell_type": "markdown",
   "metadata": {},
   "source": [
    " 1.In what modes should the PdfFileReader() and PdfFileWriter() File objects will be opened?\n",
    " The PdfFileReader() and PdfFileWriter() File objects should be opened in binary mode by passing the 'rb' and 'wb' arguments, respectively."
   ]
  },
  {
   "attachments": {},
   "cell_type": "markdown",
   "metadata": {},
   "source": [
    "2.From a PdfFileReader object, how do you get a Page object for page 5?\n",
    "To get a Page object for page 5 from a PdfFileReader object, you can use the getPage() method and pass the page number as an argument: "
   ]
  },
  {
   "cell_type": "code",
   "execution_count": null,
   "metadata": {},
   "outputs": [],
   "source": [
    "# !pip install PyPDF2 "
   ]
  },
  {
   "cell_type": "code",
   "execution_count": null,
   "metadata": {},
   "outputs": [],
   "source": [
    "from PyPDF2 import PdfFileReader\n",
    "page_five = PdfFileReader.getPage(4) "
   ]
  },
  {
   "attachments": {},
   "cell_type": "markdown",
   "metadata": {},
   "source": [
    "3.What PdfFileReader variable stores the number of pages in the PDF document?\n",
    "The PdfFileReader variable that stores the number of pages in the PDF document is numPages."
   ]
  },
  {
   "attachments": {},
   "cell_type": "markdown",
   "metadata": {},
   "source": [
    "4.If a PdfFileReader object’s PDF is encrypted with the password swordfish, what must you do before you can obtain Page objects from it?\n",
    "\n",
    "Call the decrypt() method on the PdfFileReader object and pass the password as an argument before obtaining Page objects from it.\n",
    "pdf_reader.decrypt('swordfish')\n",
    "\n"
   ]
  },
  {
   "attachments": {},
   "cell_type": "markdown",
   "metadata": {},
   "source": [
    "5.What methods do you use to rotate a page?\n",
    "To rotate a page, you can use the rotateClockwise() or rotateCounterClockwise() methods on the Page object, passing the angle of rotation (in degrees) as an argument. \n",
    "page.rotateClockwise(90)"
   ]
  },
  {
   "attachments": {},
   "cell_type": "markdown",
   "metadata": {},
   "source": [
    "6.What is the difference between a Run object and a Paragraph object?\n",
    "A Run object represents a contiguous run of text with the same style, while a Paragraph object represents a block of text with a specific style and formatting."
   ]
  },
  {
   "attachments": {},
   "cell_type": "markdown",
   "metadata": {},
   "source": [
    "7.How do you obtain a list of Paragraph objects for a Document object that’s stored in a variable named doc?\n",
    "use the paragraphs attribute: paragraphs = doc.paragraphs\n",
    "\n"
   ]
  },
  {
   "attachments": {},
   "cell_type": "markdown",
   "metadata": {},
   "source": [
    "8.What type of object has bold, underline, italic, strike, and outline variables?\n",
    "A Run object has bold, underline, italic, strike, and outline variables."
   ]
  },
  {
   "attachments": {},
   "cell_type": "markdown",
   "metadata": {},
   "source": [
    "9.What is the difference between False, True, and None for the bold variable?\n",
    "The bold variable for a Run object can be set to True, False, or None. True means the text is bold, False means the text is not bold, and None means the bold setting is inherited from the parent style."
   ]
  },
  {
   "attachments": {},
   "cell_type": "markdown",
   "metadata": {},
   "source": [
    "10.How do you create a Document object for a new Word document?\n",
    "To create a Document object for a new Word document, you can import the Document class from the python-docx module and call its constructor\n"
   ]
  },
  {
   "cell_type": "code",
   "execution_count": null,
   "metadata": {},
   "outputs": [],
   "source": [
    "from docx import Document \n",
    "doc = Document()"
   ]
  },
  {
   "attachments": {},
   "cell_type": "markdown",
   "metadata": {},
   "source": [
    "11.How do you add a paragraph with the text 'Hello, there!' to a Document object stored in a variable named doc?\n",
    " you can use the add_paragraph() method:\n",
    " doc.add_paragraph('Hello, there!')"
   ]
  },
  {
   "attachments": {},
   "cell_type": "markdown",
   "metadata": {},
   "source": [
    "12.What integers represent the levels of headings available in Word documents?\n",
    "The integers 1 to 9 represent the levels of headings available in Word documents, with 1 being the highest level and 9 being the lowest. For example, doc.add_heading('Main Heading', level=1) would add a top-level heading to the document."
   ]
  },
  {
   "cell_type": "markdown",
   "metadata": {},
   "source": []
  },
  {
   "cell_type": "markdown",
   "metadata": {},
   "source": []
  }
 ],
 "metadata": {
  "kernelspec": {
   "display_name": "testenv",
   "language": "python",
   "name": "python3"
  },
  "language_info": {
   "codemirror_mode": {
    "name": "ipython",
    "version": 3
   },
   "file_extension": ".py",
   "mimetype": "text/x-python",
   "name": "python",
   "nbconvert_exporter": "python",
   "pygments_lexer": "ipython3",
   "version": "3.11.2"
  },
  "orig_nbformat": 4
 },
 "nbformat": 4,
 "nbformat_minor": 2
}
