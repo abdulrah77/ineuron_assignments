{
 "cells": [
  {
   "attachments": {},
   "cell_type": "markdown",
   "metadata": {},
   "source": [
    "1) . What is the difference between enclosing a list comprehension in square brackets and parentheses?\n",
    "square brackets creates lists whereas parentheses creates generator object\n",
    "\n",
    "2) What is the relationship between generators and iterators?\n",
    "A generator is a type of iterator.\n",
    "Generator functions use the yield statement to pause and resume execution and to produce a sequence of values over time, rather than returning a single value like regular functions.\n",
    "3) What are the signs that a function is a generator function?\n",
    "It contains the yield keyword.\n",
    "It returns an iterator when called.\n",
    "\n",
    "4) What is the purpose of a yield statement?\n",
    "The purpose of a yield statement is to produce a generator object that can be iterated over to generate a sequence of values on the fly, without needing to create an entire list or other data structure in memory. \n",
    "\n",
    "\n",
    "5) What is the relationship between map calls and list \n",
    "comprehensions? Make a comparison and contrast between the two.\n",
    "\n",
    "Both map() calls and list comprehensions are ways to apply a function to a sequence of values, but they have some differences:\n",
    "\n",
    "map() returns an iterator, while a list comprehension returns a list.\n",
    "map() applies a function to each element of a sequence, while a list comprehension can filter and transform elements using conditionals and expressions.\n",
    "List comprehensions are generally faster for small sequences, while map() can be faster for large sequences or when using built-in functions.\n",
    "\n"
   ]
  },
  {
   "cell_type": "code",
   "execution_count": null,
   "metadata": {},
   "outputs": [],
   "source": []
  }
 ],
 "metadata": {
  "kernelspec": {
   "display_name": "testenv",
   "language": "python",
   "name": "python3"
  },
  "language_info": {
   "codemirror_mode": {
    "name": "ipython",
    "version": 3
   },
   "file_extension": ".py",
   "mimetype": "text/x-python",
   "name": "python",
   "nbconvert_exporter": "python",
   "pygments_lexer": "ipython3",
   "version": "3.11.2"
  },
  "orig_nbformat": 4
 },
 "nbformat": 4,
 "nbformat_minor": 2
}
