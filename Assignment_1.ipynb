{
  "nbformat": 4,
  "nbformat_minor": 0,
  "metadata": {
    "colab": {
      "name": "Assignment_1.ipynb",
      "provenance": [],
      "authorship_tag": "ABX9TyMhvWjHC9UwrWfpNknTIq72",
      "include_colab_link": true
    },
    "kernelspec": {
      "name": "python3",
      "display_name": "Python 3"
    },
    "language_info": {
      "name": "python"
    },
    "accelerator": "GPU",
    "gpuClass": "standard"
  },
  "cells": [
    {
      "cell_type": "markdown",
      "metadata": {
        "id": "view-in-github",
        "colab_type": "text"
      },
      "source": [
        "<a href=\"https://colab.research.google.com/github/abdulrah77/ineuron_assignments/blob/main/Assignment_1.ipynb\" target=\"_parent\"><img src=\"https://colab.research.google.com/assets/colab-badge.svg\" alt=\"Open In Colab\"/></a>"
      ]
    },
    {
      "cell_type": "markdown",
      "source": [
        "1. In the below elements which of them are values or an expression? eg:- values can be integer or string and expressions will be mathematical operators.\n",
        "* \n",
        "'hello'\n",
        "-87.8\n",
        "- \n",
        "/ \n",
        "+\t\n",
        "6 "
      ],
      "metadata": {
        "id": "El_Ez3EQ2v9h"
      }
    },
    {
      "cell_type": "markdown",
      "source": [
        "\"/\" is an expression as it is a mathemetical operator"
      ],
      "metadata": {
        "id": "5m7974cq3YMZ"
      }
    },
    {
      "cell_type": "markdown",
      "source": [
        "2. What is the difference between string and variable?"
      ],
      "metadata": {
        "id": "wSfnptG722z6"
      }
    },
    {
      "cell_type": "markdown",
      "source": [
        "String are used to represent text.\n",
        "Whereas, the variables is name that can refer to value."
      ],
      "metadata": {
        "id": "qN5pc64c4WJ6"
      }
    },
    {
      "cell_type": "markdown",
      "source": [
        "3. Describe three different data types.\n"
      ],
      "metadata": {
        "id": "ZiLuZeMo25OL"
      }
    },
    {
      "cell_type": "markdown",
      "source": [
        "Number - any number in  int, float , complex are said to be numbers\n",
        "Strings - Texts are called strings(str)\n",
        "List - Contains a list of variable with same data type, elements of the list can be retrived through indecies. Lists are sequentially ordered"
      ],
      "metadata": {
        "id": "7Ih7v2DD3gCB"
      }
    },
    {
      "cell_type": "markdown",
      "source": [
        "\n",
        "4. What is an expression made up of? What do all expressions do?\n"
      ],
      "metadata": {
        "id": "o58pa59U27Ag"
      }
    },
    {
      "cell_type": "markdown",
      "source": [
        "Expressions are mathemetical operations, used to perfom or calculation/evaluations and returns a value"
      ],
      "metadata": {
        "id": "5p2al4Q35sTe"
      }
    },
    {
      "cell_type": "markdown",
      "source": [
        "5. This assignment statements, like spam = 10. What is the difference between an expression and a statement?\n"
      ],
      "metadata": {
        "id": "A5bLaS_p28xi"
      }
    },
    {
      "cell_type": "markdown",
      "source": [
        "spam=10 is an assignment where it does not return any value, it just states that variable spam is assigned with the value 10."
      ],
      "metadata": {
        "id": "wz4DsMIc6GiO"
      }
    },
    {
      "cell_type": "markdown",
      "source": [
        "6. After running the following code, what does the variable bacon contain?\n",
        "bacon = 22\n",
        "bacon + 1\n"
      ],
      "metadata": {
        "id": "SLSXEUj02-XZ"
      }
    },
    {
      "cell_type": "code",
      "source": [
        "bacon = 22\n",
        "bacon + 1\n",
        "bacon"
      ],
      "metadata": {
        "colab": {
          "base_uri": "https://localhost:8080/"
        },
        "id": "9qTb_rz460ZU",
        "outputId": "f7bb1086-a1b8-4c56-ed26-57e03e46161d"
      },
      "execution_count": 3,
      "outputs": [
        {
          "output_type": "execute_result",
          "data": {
            "text/plain": [
              "22"
            ]
          },
          "metadata": {},
          "execution_count": 3
        }
      ]
    },
    {
      "cell_type": "markdown",
      "source": [
        "After executing the code, though the bacon is incremented by 1.  The variable bacon contains the value 22, as the return value is not assigned back to bacon. "
      ],
      "metadata": {
        "id": "2tRXbgZg6yrG"
      }
    },
    {
      "cell_type": "markdown",
      "source": [
        "\n",
        "7. What should the values of the following two terms be?\n",
        "'spam' + 'spamspam'\n",
        "'spam' * 3\n"
      ],
      "metadata": {
        "id": "ox7BfFmP2_9O"
      }
    },
    {
      "cell_type": "code",
      "source": [
        "'spam' + 'spamspam'\n",
        "'spam' * 3"
      ],
      "metadata": {
        "colab": {
          "base_uri": "https://localhost:8080/",
          "height": 35
        },
        "id": "STMMcyx-7ndb",
        "outputId": "f8a446b6-2989-42d1-ca86-252b9e2665f1"
      },
      "execution_count": 4,
      "outputs": [
        {
          "output_type": "execute_result",
          "data": {
            "text/plain": [
              "'spamspamspam'"
            ],
            "application/vnd.google.colaboratory.intrinsic+json": {
              "type": "string"
            }
          },
          "metadata": {},
          "execution_count": 4
        }
      ]
    },
    {
      "cell_type": "markdown",
      "source": [
        "Though both lines give the same output 'spamspamspam', the method used for execution is different. First line of code concatenates. Whereas the second line of code prints the mulitple of the string."
      ],
      "metadata": {
        "id": "dBah6s057umD"
      }
    },
    {
      "cell_type": "markdown",
      "source": [
        "\n",
        "8. Why is eggs a valid variable name while 100 is invalid?\n"
      ],
      "metadata": {
        "id": "MXUroY9X3BWJ"
      }
    },
    {
      "cell_type": "markdown",
      "source": [
        "We can't start a variable with interger. And it is hard to read through the code if intergers are variable. \n",
        "example: assume system accepts integers as variable then, assignment 100=10 and condition 100>=10, will not make any sense."
      ],
      "metadata": {
        "id": "wpfLpZKI88DG"
      }
    },
    {
      "cell_type": "markdown",
      "source": [
        "9. What three functions can be used to get the integer, floating-point number, or string version of a value?"
      ],
      "metadata": {
        "id": "qE5xtkfk3C5K"
      }
    },
    {
      "cell_type": "markdown",
      "source": [
        "int() ,float(), str()"
      ],
      "metadata": {
        "id": "I08l6Tlh-Bnl"
      }
    },
    {
      "cell_type": "markdown",
      "source": [
        "10. Why does this expression cause an error? How can you fix it?\n",
        "'I have eaten ' + 99 + ' burritos.'"
      ],
      "metadata": {
        "id": "M_jWSKND3E2J"
      }
    },
    {
      "cell_type": "markdown",
      "source": [
        "The error is because we are trying to concatenate a string with an integer, this can be solve by changing 99 as a string.\n",
        "'I have eaten ' + '99' + ' burritos.'\n",
        "\n",
        "or to use a f string \n",
        "f\"I have eaten ' +{99} + ' burritos.\""
      ],
      "metadata": {
        "id": "x9hcsc0h2p46"
      }
    },
    {
      "cell_type": "code",
      "source": [
        "\n",
        "f\"I have eaten ' +{99} + ' burritos.\""
      ],
      "metadata": {
        "colab": {
          "base_uri": "https://localhost:8080/",
          "height": 35
        },
        "id": "74JM62Wg-IKq",
        "outputId": "a42b9688-f8e7-45a2-ed9c-3abbe988a307"
      },
      "execution_count": 16,
      "outputs": [
        {
          "output_type": "execute_result",
          "data": {
            "text/plain": [
              "\"I have eaten ' +99 + ' burritos.\""
            ],
            "application/vnd.google.colaboratory.intrinsic+json": {
              "type": "string"
            }
          },
          "metadata": {},
          "execution_count": 16
        }
      ]
    }
  ]
}