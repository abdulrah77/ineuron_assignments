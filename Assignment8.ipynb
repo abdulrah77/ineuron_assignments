{
  "nbformat": 4,
  "nbformat_minor": 0,
  "metadata": {
    "colab": {
      "name": "Assignment8.ipynb",
      "provenance": [],
      "authorship_tag": "ABX9TyPF7nIES7d5IVXJ38Z+afNt",
      "include_colab_link": true
    },
    "kernelspec": {
      "name": "python3",
      "display_name": "Python 3"
    },
    "language_info": {
      "name": "python"
    }
  },
  "cells": [
    {
      "cell_type": "markdown",
      "metadata": {
        "id": "view-in-github",
        "colab_type": "text"
      },
      "source": [
        "<a href=\"https://colab.research.google.com/github/abdulrah77/ineuron_assignments/blob/main/Assignment8.ipynb\" target=\"_parent\"><img src=\"https://colab.research.google.com/assets/colab-badge.svg\" alt=\"Open In Colab\"/></a>"
      ]
    },
    {
      "cell_type": "markdown",
      "source": [
        "1. Is the Python Standard Library included with PyInputPlus?\n",
        "No it is not a part of standard library\n",
        "\n",
        "2. Why is PyInputPlus commonly imported with import pyinputplus as pypi?\n",
        "pyip is the alias of pyinputplus..\n",
        "So each time we call pypi can be used.\n",
        "\n",
        "3. How do you distinguish between inputInt() and inputFloat()?\n",
        "inputInt() accepts int and returns int\n",
        "inputFloat() accepts float and returns float\n",
        "\n",
        "4. Using PyInputPlus, how do you ensure that the user enters a whole number between 0 and 99?\n",
        "inputInt(min=0, max=99)\n",
        "\n",
        "5. What is transferred to the keyword arguments allowRegexes and blockRegexes?\n",
        "\n",
        "use regular expressions to specify whether an input is allowed or not,\n",
        "\n",
        "res = pyip.inputRegexStr(blockRegexes=[r'[aeiou]'])  # blocks string with vowels\n",
        "\n",
        "res = pyip.inputNum(allowRegexes=[r'[I|V|X|L|C|D|M]'])  # allows roman numerals\n",
        "\n",
        "6. If a blank input is entered three times, what does inputStr(limit=3) do?\n",
        "it will throw RetryLimitException\n",
        "\n",
        "7. If blank input is entered three times, what does inputStr(limit=3, default=\"hello\") do?\n",
        "\n",
        "Returns hello inplace of the RetryLimitException"
      ],
      "metadata": {
        "id": "xHEd8wo2jQS6"
      }
    },
    {
      "cell_type": "code",
      "source": [
        "import pyinputplus as pyip\n",
        "res = pyip.inputStr(limit=3, default=\"hello\")  # allows roman numerals\n",
        "print(res)"
      ],
      "metadata": {
        "colab": {
          "base_uri": "https://localhost:8080/"
        },
        "id": "wrvp0DRjeJuA",
        "outputId": "dd490a62-b5d3-483a-df0b-f2b7cf004fe4"
      },
      "execution_count": 27,
      "outputs": [
        {
          "output_type": "stream",
          "name": "stdout",
          "text": [
            "\n",
            "Blank values are not allowed.\n",
            "\n",
            "Blank values are not allowed.\n",
            "\n",
            "Blank values are not allowed.\n",
            "hello\n"
          ]
        }
      ]
    }
  ]
}