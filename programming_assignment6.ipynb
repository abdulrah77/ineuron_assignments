{
  "nbformat": 4,
  "nbformat_minor": 0,
  "metadata": {
    "colab": {
      "name": "programming_assignment6.ipynb",
      "provenance": [],
      "authorship_tag": "ABX9TyNNj2xMlM7+Ph2E849/5kER",
      "include_colab_link": true
    },
    "kernelspec": {
      "name": "python3",
      "display_name": "Python 3"
    },
    "language_info": {
      "name": "python"
    }
  },
  "cells": [
    {
      "cell_type": "markdown",
      "metadata": {
        "id": "view-in-github",
        "colab_type": "text"
      },
      "source": [
        "<a href=\"https://colab.research.google.com/github/abdulrah77/ineuron_assignments/blob/main/programming_assignment6.ipynb\" target=\"_parent\"><img src=\"https://colab.research.google.com/assets/colab-badge.svg\" alt=\"Open In Colab\"/></a>"
      ]
    },
    {
      "cell_type": "code",
      "execution_count": null,
      "metadata": {
        "id": "9qJy9jv8avQJ"
      },
      "outputs": [],
      "source": [
        "# 1. Write a Python Program to Display Fibonacci Sequence Using Recursion?\n",
        "\n",
        "def recur_fibo(n1,n2,nterms):\n",
        "  print(n1)\n",
        "  fib=n1+n2\n",
        "  n1=n2\n",
        "  n2=fib\n",
        "  nterms-=1\n",
        "  if nterms!=0:\n",
        "    recur_fibo(n1,n2,nterms)\n",
        "\n",
        "print(\"---Fibonacci sequence---\")\n",
        "nterms = int(input(\"Enter the number of Fibonacci Sequence terms to be diplayed: \"))\n",
        "\n",
        "n1,n2 = 0, 1\n",
        "\n",
        "if nterms <= 0:\n",
        "   print(\"Plese enter a positive integer\")\n",
        "else:\n",
        "   recur_fibo(n1,n2,nterms)\n",
        "\n"
      ]
    },
    {
      "cell_type": "code",
      "source": [
        "# 2. Write a Python Program to Find Factorial of Number Using Recursion?\n",
        "def fact(n):\n",
        "  if n==1:\n",
        "    return n\n",
        "  else:\n",
        "    return n*fact(n-1)\n",
        "  print(fact)\n",
        "n=int(input(\"Enter a number to find the factorial: \"))\n",
        "fact(n)\n",
        "if n==0:\n",
        "  print(1)\n",
        "else:\n",
        "  print(f\"Factariol of {n} is {fact(n)} \")\n",
        "\n",
        "\n"
      ],
      "metadata": {
        "colab": {
          "base_uri": "https://localhost:8080/"
        },
        "id": "VM_c-XOReDhV",
        "outputId": "ad4e720e-aa9f-497f-be03-dae7d610091c"
      },
      "execution_count": 13,
      "outputs": [
        {
          "output_type": "stream",
          "name": "stdout",
          "text": [
            "Enter a number to find the factorial: 5\n",
            "Factariol of 5 is 120 \n"
          ]
        }
      ]
    },
    {
      "cell_type": "code",
      "source": [
        "# 3. Write a Python Program to calculate your Body Mass Index?\n",
        "wieght = float(input(\"Enter  your wieght in kg: \"))\n",
        "height = float(input(\"Enter your height in cm: \"))\n",
        "height_m= height/100\n",
        "bmi = round(wieght/pow(height_m,2),2)\n",
        "print(f\" BMI index: {bmi}\")\n"
      ],
      "metadata": {
        "colab": {
          "base_uri": "https://localhost:8080/"
        },
        "id": "PsBYWK7DeEpW",
        "outputId": "cb6f95fa-6b08-4ad7-8057-6221575d1977"
      },
      "execution_count": 53,
      "outputs": [
        {
          "output_type": "stream",
          "name": "stdout",
          "text": [
            "Enter  your wieght in kg: 90\n",
            "Enter your height in cm: 150\n",
            " BMI index: 40.0\n"
          ]
        }
      ]
    },
    {
      "cell_type": "code",
      "source": [
        "# 4. Write a Python Program to calculate the natural logarithm of any number?\n",
        "import math\n",
        "print(format(math.log(int(input(\"Enter a number to know its log value: \"))),'.4f'))\n"
      ],
      "metadata": {
        "colab": {
          "base_uri": "https://localhost:8080/"
        },
        "id": "1I_Cz7_oeFmG",
        "outputId": "d780c931-90ed-4b40-8f46-b60119240e98"
      },
      "execution_count": 32,
      "outputs": [
        {
          "output_type": "stream",
          "name": "stdout",
          "text": [
            "Enter a number to know its log value: 2\n",
            "0.6931\n"
          ]
        }
      ]
    },
    {
      "cell_type": "code",
      "source": [
        "# 5. Write a Python Program for cube sum of first n natural numbers?\n",
        "n=int(input(\"Enter the N\\u209c\\u2095 term: \"))\n",
        "print(pow((n*(n+1))/2,2))"
      ],
      "metadata": {
        "colab": {
          "base_uri": "https://localhost:8080/"
        },
        "id": "Cz-rj9T9eGqt",
        "outputId": "63956ff3-5c1f-4565-e32d-db62cbcaa375"
      },
      "execution_count": 49,
      "outputs": [
        {
          "output_type": "stream",
          "name": "stdout",
          "text": [
            "Enter the Nₜₕ term: 7\n",
            "784.0\n"
          ]
        }
      ]
    }
  ]
}