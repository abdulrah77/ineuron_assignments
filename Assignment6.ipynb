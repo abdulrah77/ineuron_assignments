{
  "nbformat": 4,
  "nbformat_minor": 0,
  "metadata": {
    "colab": {
      "name": "Assignment6.ipynb",
      "provenance": [],
      "authorship_tag": "ABX9TyOzyF1PCm4cGRUq6aSqEWiP",
      "include_colab_link": true
    },
    "kernelspec": {
      "name": "python3",
      "display_name": "Python 3"
    },
    "language_info": {
      "name": "python"
    }
  },
  "cells": [
    {
      "cell_type": "markdown",
      "metadata": {
        "id": "view-in-github",
        "colab_type": "text"
      },
      "source": [
        "<a href=\"https://colab.research.google.com/github/abdulrah77/ineuron_assignments/blob/main/Assignment6.ipynb\" target=\"_parent\"><img src=\"https://colab.research.google.com/assets/colab-badge.svg\" alt=\"Open In Colab\"/></a>"
      ]
    },
    {
      "cell_type": "markdown",
      "source": [
        "1. What are escape characters, and how do you use them?\n",
        "In Python strings, the backslash \"\\\" is a special character, also called the \"escape\" character. It is used in representing certain whitespace characters: \"\\t\" is a tab, \"\\n\" is a newline.\n",
        "\n",
        "prefixing a special character with \"\\\" turns it into an ordinary character. This is called \"escaping\". For example, \"\\'\" is the single quote character. 'It\\'s' therefore is a valid string and equivalent to \"It's \". Likewise, '\"' can be escaped: \"\\\"hello\\\"\" is a string begins and ends with the literal double quote character. \n",
        "\n",
        "2. What do the escape characters n and t stand for?\n",
        "\\n stands for newline, \\t stands for tab\n",
        "\n",
        "3. What is the way to include backslash characters in a string?\n",
        "use \\\\ to have a backslah in the output character.\n",
        "\n",
        "4. The string \"Howl's Moving Castle\" is a correct value. Why isn't the single quote character in the word Howl's not escaped a problem?\n",
        "As we have used double quotes to mark the start and end of the string, single quotes are fine. It can be used in viceversa\n",
        "\n",
        "5. How do you write a string of newlines if you don't want to use the n character?\n",
        "we can use the parameter end ='\\n' in print function\n",
        "\n",
        "6. What are the values of the given expressions?\n",
        "'Hello, world!'[1]\n",
        "e\n",
        "'Hello, world!'[0:5]\n",
        "Hello\n",
        "'Hello, world!'[:5]\n",
        "Hello\n",
        "'Hello, world!'[3:]\n",
        "lo, world!\n",
        "\n",
        "7. What are the values of the following expressions?\n",
        "'Hello'.upper()\n",
        "HELLO\n",
        "'Hello'.upper().isupper()\n",
        "True\n",
        "'Hello'.upper().lower()\n",
        "hello\n",
        "\n",
        "8. What are the values of the following expressions?\n",
        "'Remember, remember, the fifth of July.'.split()\n",
        "['Remember,', 'remember,', 'the', 'fifth', 'of', 'July.']\n",
        "\n",
        "'-'.join('There can only one.'.split())\n",
        "There-can-only-one.\n"
      ],
      "metadata": {
        "id": "w15P1q1-1B18"
      }
    },
    {
      "cell_type": "code",
      "source": [
        "'Remember, remember, the fifth of July.'.split()"
      ],
      "metadata": {
        "colab": {
          "base_uri": "https://localhost:8080/"
        },
        "id": "asRqHr7pyADi",
        "outputId": "191fa789-3f7e-4a95-df94-888b30bb1cf0"
      },
      "execution_count": 2,
      "outputs": [
        {
          "output_type": "execute_result",
          "data": {
            "text/plain": [
              "['Remember,', 'remember,', 'the', 'fifth', 'of', 'July.']"
            ]
          },
          "metadata": {},
          "execution_count": 2
        }
      ]
    },
    {
      "cell_type": "code",
      "source": [
        "'-'.join('There can only one.'.split())"
      ],
      "metadata": {
        "colab": {
          "base_uri": "https://localhost:8080/",
          "height": 35
        },
        "id": "UgYTtWfpx2mC",
        "outputId": "36d52b54-36d4-4f44-ca54-8173ab92a04c"
      },
      "execution_count": 1,
      "outputs": [
        {
          "output_type": "execute_result",
          "data": {
            "text/plain": [
              "'There-can-only-one.'"
            ],
            "application/vnd.google.colaboratory.intrinsic+json": {
              "type": "string"
            }
          },
          "metadata": {},
          "execution_count": 1
        }
      ]
    },
    {
      "cell_type": "markdown",
      "source": [
        "\n",
        "9. What are the methods for right-justifying, left-justifying, and centering a string?\n",
        "ljust()\n",
        "rjust()\n",
        "center()\n",
        "\n",
        "10. What is the best way to remove whitespace characters from the start or end?\n",
        "lstrip() : removes any leading spaces\n",
        "rstrip() : removes trailing spaces\n",
        "\n"
      ],
      "metadata": {
        "id": "a-IKguW3x13P"
      }
    }
  ]
}