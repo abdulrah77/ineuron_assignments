{
  "nbformat": 4,
  "nbformat_minor": 0,
  "metadata": {
    "colab": {
      "name": "Programming_assignment2.ipynb",
      "provenance": [],
      "authorship_tag": "ABX9TyNKS/3fD1sy0J/pCJycpNMM",
      "include_colab_link": true
    },
    "kernelspec": {
      "name": "python3",
      "display_name": "Python 3"
    },
    "language_info": {
      "name": "python"
    }
  },
  "cells": [
    {
      "cell_type": "markdown",
      "metadata": {
        "id": "view-in-github",
        "colab_type": "text"
      },
      "source": [
        "<a href=\"https://colab.research.google.com/github/abdulrah77/ineuron_assignments/blob/main/Programming_assignment2.ipynb\" target=\"_parent\"><img src=\"https://colab.research.google.com/assets/colab-badge.svg\" alt=\"Open In Colab\"/></a>"
      ]
    },
    {
      "cell_type": "code",
      "execution_count": 8,
      "metadata": {
        "colab": {
          "base_uri": "https://localhost:8080/"
        },
        "id": "3LZEQeu5yVUa",
        "outputId": "318a92ba-cdd4-4504-c3b2-c12bfb36c785"
      },
      "outputs": [
        {
          "output_type": "stream",
          "name": "stdout",
          "text": [
            "Enter the km to be converted in miles: 5\n",
            "Kilometer in Miles is: 3.10685595 \n"
          ]
        }
      ],
      "source": [
        "# 1.\tWrite a Python program to convert kilometers to miles?\n",
        "km= float(input(\"Enter the km to be converted in miles: \"))\n",
        "miles= km* 0.62137119\n",
        "print(f\"Kilometer in Miles is: {miles} \")\n"
      ]
    },
    {
      "cell_type": "code",
      "source": [
        "# 2.\tWrite a Python program to convert Celsius to Fahrenheit?\n",
        "celsius = float(input(\"Enter the Celsis to view it in Fahrenheit: \"))\n",
        "fahrenheit = (celsius *9/5) + 32\n",
        "print(f\"Fahrenheit is: {fahrenheit}\")\n"
      ],
      "metadata": {
        "colab": {
          "base_uri": "https://localhost:8080/"
        },
        "id": "iBBLBoU50_lj",
        "outputId": "8dbbe04f-8145-4150-d77c-3b550d37d979"
      },
      "execution_count": 9,
      "outputs": [
        {
          "output_type": "stream",
          "name": "stdout",
          "text": [
            "Enter the Celsis to view it in Fahrenheit: 5\n",
            "Fahrenheit is: 41.0\n"
          ]
        }
      ]
    },
    {
      "cell_type": "code",
      "source": [
        "# 3.\tWrite a Python program to display calendar?\n",
        "import calendar\n",
        "year = int(input(\"Enter the year\"))\n",
        "month = int(input(\"Enter the month\"))\n",
        " \n",
        "print(calendar.month(year, month))\n"
      ],
      "metadata": {
        "id": "lHZHBFeT1vLy"
      },
      "execution_count": null,
      "outputs": []
    },
    {
      "cell_type": "code",
      "source": [
        "# 4.\tWrite a Python program to solve quadratic equation?\n",
        "\n",
        "import math\n",
        "a=2\n",
        "b=2\n",
        "c=1\n",
        "\n",
        "disc = b*b - 4*a*c\n",
        "sqr_root= math.sqrt(abs(disc))\n",
        "if disc > 0: \n",
        "  print(f\" real and different roots: {(-b + sqr_root)/(2 * a)} {(-b - sqr_root)/(2 * a)}\") \n",
        "elif disc == 0:\n",
        "  print(f\" real and same roots: {-b / (2 * a)}\")  \n",
        "else:\n",
        "  print(f\"Complex Roots: {- b / (2 * a)} + i{sqr_root}  {- b / (2 * a)}- i{ sqr_root}\") \n",
        "\n",
        "\n"
      ],
      "metadata": {
        "colab": {
          "base_uri": "https://localhost:8080/"
        },
        "id": "B7fdf8E-3V2I",
        "outputId": "a33a01d6-7821-42cf-f1fd-9964a5328018"
      },
      "execution_count": 20,
      "outputs": [
        {
          "output_type": "stream",
          "name": "stdout",
          "text": [
            "Complex Roots: -0.5 + i2.0  -0.5- i2.0\n"
          ]
        }
      ]
    },
    {
      "cell_type": "code",
      "source": [
        "# 5.\tWrite a Python program to swap two variables without temp variable?\n",
        "a=5\n",
        "b=10\n",
        "a,b=b,a\n",
        "print(a,b)"
      ],
      "metadata": {
        "colab": {
          "base_uri": "https://localhost:8080/"
        },
        "id": "AHj6eUTG3s4d",
        "outputId": "61a248be-7302-4376-f1e0-abb6ebfd6e48"
      },
      "execution_count": 10,
      "outputs": [
        {
          "output_type": "stream",
          "name": "stdout",
          "text": [
            "10 5\n"
          ]
        }
      ]
    }
  ]
}