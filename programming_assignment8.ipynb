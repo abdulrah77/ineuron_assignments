{
  "nbformat": 4,
  "nbformat_minor": 0,
  "metadata": {
    "colab": {
      "name": "programming_assignment8.ipynb",
      "provenance": [],
      "authorship_tag": "ABX9TyPXSNh6oVqfmmA6MZ8IrkAZ",
      "include_colab_link": true
    },
    "kernelspec": {
      "name": "python3",
      "display_name": "Python 3"
    },
    "language_info": {
      "name": "python"
    }
  },
  "cells": [
    {
      "cell_type": "markdown",
      "metadata": {
        "id": "view-in-github",
        "colab_type": "text"
      },
      "source": [
        "<a href=\"https://colab.research.google.com/github/abdulrah77/ineuron_assignments/blob/main/programming_assignment8.ipynb\" target=\"_parent\"><img src=\"https://colab.research.google.com/assets/colab-badge.svg\" alt=\"Open In Colab\"/></a>"
      ]
    },
    {
      "cell_type": "code",
      "execution_count": 5,
      "metadata": {
        "id": "R7c_RSIxiWUE",
        "colab": {
          "base_uri": "https://localhost:8080/"
        },
        "outputId": "8b50f9a5-afbe-4855-81e9-a62c03863989"
      },
      "outputs": [
        {
          "output_type": "stream",
          "name": "stdout",
          "text": [
            "[[17, 15, 4], [10, 12, 9], [11, 13, 18]]\n"
          ]
        }
      ],
      "source": [
        "# 1. Write a Python Program to Add Two Matrices?\n",
        "x = [[12,7,3],\n",
        "    [4 ,5,6],\n",
        "    [7 ,8,9]]\n",
        "\n",
        "y = [[5,8,1],\n",
        "    [6,7,3],\n",
        "    [4,5,9]]\n",
        "\n",
        "result=[[0,0,0],[0,0,0],[0,0,0]]\n",
        "\n",
        "for i in range(len(x)):\n",
        "  for j in range(len(x[0])):\n",
        "    result[i][j]=x[i][j]+y[i][j]\n",
        "print(result)\n",
        "\n"
      ]
    },
    {
      "cell_type": "code",
      "source": [
        "\n",
        "# 2. Write a Python Program to Multiply Two Matrices?\n",
        "import numpy as np\n",
        "\n",
        "x = [[2,7,3],\n",
        "    [4 ,15,6],\n",
        "    [7 ,8,9]]\n",
        "\n",
        "y = [[5,8,1],\n",
        "    [6,7,3],\n",
        "    [4,5,9]]\n",
        "\n",
        "result=[[0,0,0],[0,0,0],[0,0,0]]\n",
        "result=np.dot(x,y)\n",
        "print(result)"
      ],
      "metadata": {
        "colab": {
          "base_uri": "https://localhost:8080/"
        },
        "id": "g9t_uvR9S1Hs",
        "outputId": "2dd6b3e0-d951-4c41-df0f-fac76ab9c5a0"
      },
      "execution_count": 8,
      "outputs": [
        {
          "output_type": "stream",
          "name": "stdout",
          "text": [
            "[[ 64  80  50]\n",
            " [134 167 103]\n",
            " [119 157 112]]\n"
          ]
        }
      ]
    },
    {
      "cell_type": "code",
      "source": [
        "\n",
        "# 3. Write a Python Program to Transpose a Matrix?\n",
        "x = [[2,7,3],\n",
        "    [4 ,15,6],\n",
        "    [7 ,8,9]]\n",
        "\n",
        "\n",
        "result=[[0,0,0],[0,0,0],[0,0,0]]\n",
        "for i in range(len(x)):\n",
        "  for j in range(len(x[0])):\n",
        "    result[j][i]=x[i][j]\n",
        "print(result)\n",
        "\n"
      ],
      "metadata": {
        "colab": {
          "base_uri": "https://localhost:8080/"
        },
        "id": "058nue7JVk9s",
        "outputId": "b7867c16-a4e7-4eb4-acd3-67835b790359"
      },
      "execution_count": 9,
      "outputs": [
        {
          "output_type": "stream",
          "name": "stdout",
          "text": [
            "[[2, 4, 7], [7, 15, 8], [3, 6, 9]]\n"
          ]
        }
      ]
    },
    {
      "cell_type": "code",
      "source": [
        "# 4. Write a Python Program to Sort Words in Alphabetic Order?\n",
        "\n",
        "words = input(\"Enter the words to sort them alphabetically: \")\n",
        "word_list = words.split()\n",
        "sorted=[]\n",
        "for word in range(len(word_list)): \n",
        "  word_list[word]=word_list[word].lower()\n",
        "  # sorted.append(\" \".join(word))\n",
        "word_list.sort()\n",
        "sorted=\" \".join(word_list)\n",
        "print(sorted)\n"
      ],
      "metadata": {
        "colab": {
          "base_uri": "https://localhost:8080/"
        },
        "id": "m52uWgJkWbI7",
        "outputId": "6dd6332f-a69a-4d81-bd92-c6e1467089d9"
      },
      "execution_count": 27,
      "outputs": [
        {
          "output_type": "stream",
          "name": "stdout",
          "text": [
            "Enter the words to sort them alphabetically: Write a Python Program to Remove Punctuation From a Strin\n",
            "a a from program punctuation python remove strin to write\n"
          ]
        }
      ]
    },
    {
      "cell_type": "code",
      "source": [
        "# 5. Write a Python Program to Remove Punctuation From a String?\n",
        "import re\n",
        "\n",
        "line = input(\"Enter a line to remove punctuations: \")\n",
        "result = re.sub(r'[^\\w\\s]', '', line)\n",
        "print(result)"
      ],
      "metadata": {
        "colab": {
          "base_uri": "https://localhost:8080/"
        },
        "id": "AzPzlPCWaapV",
        "outputId": "88a572b5-0adc-4ea4-b085-8bf9d056dc43"
      },
      "execution_count": 39,
      "outputs": [
        {
          "output_type": "stream",
          "name": "stdout",
          "text": [
            "Enter a line to remove punctuations: \"cgc ,adj ytest 45 arre :;211\n",
            "cgc adj ytest 45 arre 211\n"
          ]
        }
      ]
    }
  ]
}