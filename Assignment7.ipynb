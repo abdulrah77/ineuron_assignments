{
  "nbformat": 4,
  "nbformat_minor": 0,
  "metadata": {
    "colab": {
      "name": "Assignment7.ipynb",
      "provenance": [],
      "authorship_tag": "ABX9TyMZ7/IOtQPSdRPO5bRPTjrk",
      "include_colab_link": true
    },
    "kernelspec": {
      "name": "python3",
      "display_name": "Python 3"
    },
    "language_info": {
      "name": "python"
    }
  },
  "cells": [
    {
      "cell_type": "markdown",
      "metadata": {
        "id": "view-in-github",
        "colab_type": "text"
      },
      "source": [
        "<a href=\"https://colab.research.google.com/github/abdulrah77/ineuron_assignments/blob/main/Assignment7.ipynb\" target=\"_parent\"><img src=\"https://colab.research.google.com/assets/colab-badge.svg\" alt=\"Open In Colab\"/></a>"
      ]
    },
    {
      "cell_type": "markdown",
      "source": [
        "1. What is the name of the feature responsible for generating Regex objects?\n",
        "import re\n",
        "re.compile(\"string\")\n",
        "\n",
        "2. Why do raw strings often appear in Regex objects?\n",
        "Raw strings are used so that backslashes do not have to be escaped\n",
        "\n",
        "3. What is the return value of the search() method?\n",
        "The search() method searches a string for a specified value, and returns the position of the match.\n",
        "The search value can be string or a regular expression, returns -1 if no match is found\n",
        "\n",
        "4. From a Match item, how do you get the actual strings that match the pattern?\n",
        "import re\n",
        "pattern = re.compile(r'\\d\\d\\d-\\d\\d\\d-\\d\\d\\d\\d')\n",
        "number= pattern.search('My number 444-555-7777')\n",
        "number.group()\n"
      ],
      "metadata": {
        "id": "DNPTWSQIMbdx"
      }
    },
    {
      "cell_type": "code",
      "source": [
        "pattern = re.compile(r'\\d\\d\\d-\\d\\d\\d-\\d\\d\\d\\d')\n",
        "number= pattern.search('My number is 444-555-7777')\n",
        "number.group() \n",
        "\n"
      ],
      "metadata": {
        "colab": {
          "base_uri": "https://localhost:8080/",
          "height": 35
        },
        "id": "dxhuaoHsjBjf",
        "outputId": "862cfc18-290a-46ba-f272-5868a5d96c2d"
      },
      "execution_count": 9,
      "outputs": [
        {
          "output_type": "execute_result",
          "data": {
            "text/plain": [
              "'444-555-7777'"
            ],
            "application/vnd.google.colaboratory.intrinsic+json": {
              "type": "string"
            }
          },
          "metadata": {},
          "execution_count": 9
        }
      ]
    },
    {
      "cell_type": "markdown",
      "source": [
        "\n",
        "5. In the regex which created from the r'(\\d\\d\\d)-(\\d\\d\\d-\\d\\d\\d\\d)', what does group zero cover? Group 2? Group 1?\n"
      ],
      "metadata": {
        "id": "wd8tApAsjiwR"
      }
    },
    {
      "cell_type": "code",
      "source": [
        "pattern = re.compile(r'(\\d\\d\\d)-(\\d\\d\\d-\\d\\d\\d\\d)')\n",
        "number= pattern.search('My number is 444-555-7777')\n",
        "print(number.group(0))  #Extracts match value of all group\n",
        "print(number.group(2)) #Extracts match value of group 2\n",
        "print(number.group(1)) #Extracts match value of group 1"
      ],
      "metadata": {
        "colab": {
          "base_uri": "https://localhost:8080/"
        },
        "id": "1zZEuvtsjt_G",
        "outputId": "4f57a9af-7190-41d0-c574-2ed3d4a7049d"
      },
      "execution_count": 20,
      "outputs": [
        {
          "output_type": "stream",
          "name": "stdout",
          "text": [
            "444-555-7777\n",
            "555-7777\n",
            "444\n"
          ]
        }
      ]
    },
    {
      "cell_type": "markdown",
      "source": [
        "\n",
        "6. In standard expression syntax, parentheses and intervals have distinct meanings. How can you tell a regex that you want it to fit real parentheses and periods?\n",
        "Periods and parentheses can be added followed by a backslash: \\., \\(, and \\)\n",
        "\n",
        "7. The findall() method returns a string list or a list of string tuples. What causes it to return one of the two options?\n",
        "If the regex has no groups, a list of strings is returned. If the regex has groups, a list of tuples of strings is \n",
        "returned.\n",
        "\n",
        "8. In standard expressions, what does the | character mean?\n",
        "| : pipeline is used reperesent OR functionality\n",
        "\n",
        "9. In regular expressions, what does the character stand for?\n",
        "?: to match the preceeding value, when we need an option to choose from.\n",
        "\n",
        "10.In regular expressions, what is the difference between the + and * characters?\n",
        "The + matches one or more. The * matches zero or more\n",
        "\n",
        "11. What is the difference between {4} and {4,5} in regular expression?\n",
        "The {4} matches exactly three instances of the preceding group. \n",
        "The {4,5} matches between four and five instances\n",
        "\n",
        "12. What do you mean by the \\d, \\w, and \\s shorthand character classes signify in regular expressions?\n",
        "\\d : returns a match it contain 0-9\n",
        "\\w : Returns a match where the string contains any word characters \n",
        "\\s : return whitespaces from string\n",
        "\n",
        "13. What do means by \\D, \\W, and \\S shorthand character classes signify in regular expressions?\n",
        "\\D: returns a match where string does not contain digits\n",
        "\\W: returns a match where the string does not contain word characters.\n",
        "\\S: returns a match where the string does not contain blank space character\n",
        "\n",
        "14. What is the difference between .*? and .*?\n",
        ".? : any characters that occurs zero or once\n",
        ".*: any character that occurs once or more\n",
        "\n",
        "15. What is the syntax for matching both numbers and lowercase letters with a character class?\n",
        "[0-9a-z]\n",
        "\n",
        "16. What is the procedure for making a normal expression in regax case insensitive?\n",
        "Passing re.I or re.IGNORECASE as the second argument to re.compile() will make the matching case insensitive\n",
        "\n",
        "import re\n",
        "regex=re.compile(r'[a-z]',re.IGNORECASE)\n",
        "output = regex.search(\"This is a test Data\")\n",
        "print(output)\n",
        "\n",
        "17. What does the . character normally match? What does it match if re.DOTALL is passed as 2nd argument in re.compile()?\n",
        ". : matches any character excpet for new lines\n",
        "re.compile(r'[a-zA-Z]', re.DOTALL) will match new lines as well.\n",
        "\n",
        "18. If numReg = re.compile(r'\\d+'), what will numRegex.sub('X', '11 drummers, 10 pipers, five rings, 4 hen') return?\n",
        "\n",
        "('X drummers, X pipers, five rings, X hen')\n",
        "\n",
        "19. What does passing re.VERBOSE as the 2nd argument to re.compile() allow to do?\n",
        "The re.VERBOSE, allows you to add spaces and comments to the string passed to re.compile()\n",
        "\n",
        "20. How would you write a regex that match a number with comma for every three digits? It must match the given following:\n",
        "'42'\n",
        "'1,234'\n",
        "'6,368,745'\n",
        "but not the following:\n",
        "'12,34,567' (which has only two digits between the commas)\n",
        "'1234' (which lacks commas)\n",
        "\n",
        "import re\n",
        "rege = re.compile(r'^\\d{1,3}(,\\d{3})*$')\n",
        "num= rege.search('12,34,567')\n",
        "if num!= None:\n",
        "  num.group()\n",
        "else:\n",
        "  print(\"Does not meet the condition\")\n"
      ],
      "metadata": {
        "id": "LJImKHdFjs9d"
      }
    },
    {
      "cell_type": "code",
      "source": [
        "import re\n",
        "rege = re.compile(r'^\\d{1,3}(,\\d{3})*$')\n",
        "num= rege.search('12,34,567')\n",
        "if num!= None:\n",
        "  num.group()\n",
        "else:\n",
        "  print(\"Does not meet the condition\")\n",
        "# '42'\n",
        "# '1,234'\n",
        "# '6,368,745'\n",
        "# but not the following:\n",
        "# '12,34,567' (which has only two digits between the commas)\n",
        "# '1234' (which lacks commas)"
      ],
      "metadata": {
        "colab": {
          "base_uri": "https://localhost:8080/"
        },
        "id": "2_GNQWw61whp",
        "outputId": "d99bf925-49c7-464e-fdd2-bac9e245eb9c"
      },
      "execution_count": 6,
      "outputs": [
        {
          "output_type": "stream",
          "name": "stdout",
          "text": [
            "Does not meet the condition\n"
          ]
        }
      ]
    },
    {
      "cell_type": "markdown",
      "source": [
        "\n",
        "21. How would you write a regex that matches the full name of someone whose last name is Watanabe? You can assume that the first name that comes before it will always be one word that begins with a capital letter. The regex must match the following:\n",
        "'Haruto Watanabe'\n",
        "'Alice Watanabe'\n",
        "'RoboCop Watanabe'\n",
        "but not the following:\n",
        "'haruto Watanabe' (where the first name is not capitalized)\n",
        "'Mr. Watanabe' (where the preceding word has a nonletter character)\n",
        "'Watanabe' (which has no first name)\n",
        "'Haruto watanabe' (where Watanabe is not capitalized)\n",
        "import re\n",
        "rege = re.compile(r'^[A-Z][a-z]*\\sWatanabe\\Z')\n",
        "test= rege.search('Haruto Watanabe')\n",
        "if test!=None:\n",
        "  print(test.group())\n",
        "else:\n",
        "  print(\"Does not meet the condition\")\n",
        "\n",
        "\n"
      ],
      "metadata": {
        "id": "CPoPKD0e3OEl"
      }
    },
    {
      "cell_type": "code",
      "source": [
        "import re\n",
        "rege = re.compile(r'^[A-Z][a-z]*\\sWatanabe\\Z')\n",
        "test= rege.search('Haruto Watanabe')\n",
        "if test!=None:\n",
        "  print(test.group())\n",
        "else:\n",
        "  print(\"Does not meet the condition\")\n",
        "# 'Haruto Watanabe'\n",
        "# 'Alice Watanabe'\n",
        "# 'RoboCop Watanabe'\n",
        "# but not the following:\n",
        "# 'haruto Watanabe' (where the first name is not capitalized)\n",
        "# 'Mr. Watanabe' (where the preceding word has a nonletter character)\n",
        "# 'Watanabe' (which has no first name)\n",
        "# 'Haruto watanabe' (where Watanabe is not capitalized)"
      ],
      "metadata": {
        "colab": {
          "base_uri": "https://localhost:8080/"
        },
        "id": "KLuk33Ae3Nqp",
        "outputId": "fe422b2d-1761-446a-a536-0d60f868dacc"
      },
      "execution_count": 21,
      "outputs": [
        {
          "output_type": "stream",
          "name": "stdout",
          "text": [
            "Haruto Watanabe\n"
          ]
        }
      ]
    },
    {
      "cell_type": "code",
      "source": [
        "\n",
        "# 22. How would you write a regex that matches a sentence where the first word is either Alice, Bob, or Carol; the second word is either eats, pets, or throws; the third word is apples, cats, or baseballs; and the sentence ends with a period? This regex should be case-insensitive. It must match the following:\n",
        "# 'Alice eats apples.'\n",
        "# 'Bob pets cats.'\n",
        "# 'Carol throws baseballs.'\n",
        "# 'Alice throws Apples.'\n",
        "# 'BOB EATS CATS.'\n",
        "# but not the following:\n",
        "# 'RoboCop eats apples.'\n",
        "# 'ALICE THROWS FOOTBALLS.'\n",
        "# 'Carol eats 7 cats.'\n",
        "\n",
        "import re\n",
        "rege = re.compile(r'(Alice|Bob|Carol)*\\s(eats|pets|throws)*\\s(apples|cats|baseballs).$')\n",
        "test = rege.search('Alice eats apples')\n",
        "if test!=None:\n",
        "  print(test.group())\n",
        "else:\n",
        "  print(\"Does not meet the condition\")"
      ],
      "metadata": {
        "colab": {
          "base_uri": "https://localhost:8080/"
        },
        "id": "7j5ESKOz48fj",
        "outputId": "bb10772b-1291-48dd-ccfa-f6df7b003c52"
      },
      "execution_count": 26,
      "outputs": [
        {
          "output_type": "stream",
          "name": "stdout",
          "text": [
            "Does not meet the condition\n"
          ]
        }
      ]
    }
  ]
}