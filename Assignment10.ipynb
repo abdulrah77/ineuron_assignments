{
  "nbformat": 4,
  "nbformat_minor": 0,
  "metadata": {
    "colab": {
      "name": "Assignment10.ipynb",
      "provenance": [],
      "authorship_tag": "ABX9TyOOTvdPPf6aYlVY6K4hPN27",
      "include_colab_link": true
    },
    "kernelspec": {
      "name": "python3",
      "display_name": "Python 3"
    },
    "language_info": {
      "name": "python"
    }
  },
  "cells": [
    {
      "cell_type": "markdown",
      "metadata": {
        "id": "view-in-github",
        "colab_type": "text"
      },
      "source": [
        "<a href=\"https://colab.research.google.com/github/abdulrah77/ineuron_assignments/blob/main/Assignment10.ipynb\" target=\"_parent\"><img src=\"https://colab.research.google.com/assets/colab-badge.svg\" alt=\"Open In Colab\"/></a>"
      ]
    },
    {
      "cell_type": "markdown",
      "source": [
        "1. How do you distinguish between shutil.copy() and shutil.copytree()?\n",
        "shutil.copy(): copies a single file\n",
        "shutil.copytree() copies a folder along with its sub-folders and contents\n",
        "\n",
        "2. What function is used to rename files??\n",
        "import os\n",
        "os.rename(\"Original_file.txt\",\"renamed_file.txt\")\n",
        "\n",
        "3. What is the difference between the delete functions in the send2trash and shutil modules?\n",
        "shutil.rmtree() => delete folders and files permenantly.\n",
        "send2trash.send2trash() => moves the folder and file to trash / recycle bin\n",
        "\n",
        "4.ZipFile objects have a close() method just like File objects’ close() method. What ZipFile method is equivalent to File objects’ open() method?\n",
        "with ZipFile(file_name, 'r') as zip => this code will open specified zipfile\n",
        "\n",
        "5. Create a programme that searches a folder tree for files with a certain file extension (such as .pdf\n",
        "or .jpg). Copy these files from whatever location they are in to a new folder.\n",
        "\n"
      ],
      "metadata": {
        "id": "shD74gq1gS8Q"
      }
    },
    {
      "cell_type": "code",
      "source": [
        "import os\n",
        "import shutil\n",
        "\n",
        "def copy_file(startpath,destination,extentions): \n",
        "    \"\"\" Copy files of the same extention from one path to another\"\"\"\n",
        "    try:\n",
        "        for foldername, dirs, files in os.walk(startpath):\n",
        "            for file in files:\n",
        "                filename,file_ext = os.path.splitext(file)\n",
        "\n",
        "                if file_ext in extentions:\n",
        "                    print(file_ext)\n",
        "                    src_path = os.path.abspath(foldername)+ os.path.sep + file\n",
        "                    print(f\"src :{src_path} \\n destination: {destination}\")\n",
        "                    shutil.copy(src_path, destination)\n",
        "                    \n",
        "    except: # except block implemented to overcome the same file error exception\n",
        "        pass\n",
        "\n",
        "    \n",
        "#declaring the source path, destination path and the extenstions to be moved \n",
        "startpath= \"C:\\\\Users\\\\775008\\\\Downloads\"\n",
        "destination =os.path.abspath(\"C:\\\\Users\\\\775008\\\\Downloads\\\\copytest\")\n",
        "extentions =['.pdf','.jpg']\n",
        "\n",
        "copy_file(startpath,destination,extentions)\n"
      ],
      "metadata": {
        "colab": {
          "base_uri": "https://localhost:8080/"
        },
        "id": "GSVliKWaKa1O",
        "outputId": "5e59ec71-012e-4249-b5fb-646657b28da1"
      },
      "execution_count": null,
      "outputs": [
        {
          "output_type": "stream",
          "name": "stdout",
          "text": [
            "Looking in C:\\Users\\user\\Desktop\\source for files with extensions of .pdf, .jpg\n"
          ]
        }
      ]
    }
  ]
}