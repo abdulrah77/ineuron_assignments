{
  "nbformat": 4,
  "nbformat_minor": 0,
  "metadata": {
    "colab": {
      "name": "Programming_Assignment9.ipynb",
      "provenance": [],
      "authorship_tag": "ABX9TyMrVqBmzuH7mCganwYJBE7u",
      "include_colab_link": true
    },
    "kernelspec": {
      "name": "python3",
      "display_name": "Python 3"
    },
    "language_info": {
      "name": "python"
    }
  },
  "cells": [
    {
      "cell_type": "markdown",
      "metadata": {
        "id": "view-in-github",
        "colab_type": "text"
      },
      "source": [
        "<a href=\"https://colab.research.google.com/github/abdulrah77/ineuron_assignments/blob/main/Programming_Assignment9.ipynb\" target=\"_parent\"><img src=\"https://colab.research.google.com/assets/colab-badge.svg\" alt=\"Open In Colab\"/></a>"
      ]
    },
    {
      "cell_type": "code",
      "execution_count": 2,
      "metadata": {
        "id": "2H9JU0j9gYbP",
        "colab": {
          "base_uri": "https://localhost:8080/"
        },
        "outputId": "d973459b-0c70-4cf7-86c1-3e333016443a"
      },
      "outputs": [
        {
          "output_type": "stream",
          "name": "stdout",
          "text": [
            "Enter a number to check Disarium number or not : 175\n",
            "Disarrium Number\n"
          ]
        }
      ],
      "source": [
        "# 1. Write a Python program to check if the given number is a Disarium Number?\n",
        "import math\n",
        "\n",
        "n=False\n",
        "while not n or not n.isnumeric():\n",
        "    n = input(\"Enter a number to check Disarium number or not : \")\n",
        "    if n.isnumeric() == False:\n",
        "        print(\"Please enter Natural numbers only: \")\n",
        "dis_num=0\n",
        "for i in range(len(n)):\n",
        "    dis_num +=math.pow(int(n[i]), i+1)\n",
        "if dis_num == int(n):\n",
        "    print(\"Disarrium Number\")\n",
        "else:\n",
        "    print(\"Not Disarrium Number\")\n"
      ]
    },
    {
      "cell_type": "code",
      "source": [
        "# 2. Write a Python program to print all disarium numbers between 1 to 100?\n",
        "import math\n",
        "for n in range(1,100):\n",
        "    n=str(n)\n",
        "    dis_num=0\n",
        "    for i in range(len(n)):\n",
        "        dis_num +=math.pow(int(n[i]), i+1)\n",
        "    if dis_num == int(n):\n",
        "        print(n)"
      ],
      "metadata": {
        "colab": {
          "base_uri": "https://localhost:8080/"
        },
        "id": "7RX1T9S8ZR2g",
        "outputId": "c8c82eac-854a-425a-94eb-09ec0f4facf2"
      },
      "execution_count": 3,
      "outputs": [
        {
          "output_type": "stream",
          "name": "stdout",
          "text": [
            "1\n",
            "2\n",
            "3\n",
            "4\n",
            "5\n",
            "6\n",
            "7\n",
            "8\n",
            "9\n",
            "89\n"
          ]
        }
      ]
    },
    {
      "cell_type": "code",
      "source": [
        "# 3. Write a Python program to check if the given number is Happy Number?\n",
        "def happy_numbers(n):\n",
        "    past = set()\n",
        "    while n != 1:\n",
        "        n = sum(int(i)**2 for i in str(n))\n",
        "        if n in past:\n",
        "            return print(\"Not a Happy number\")\n",
        "        past.add(n)\n",
        "    return print(\"Happy Number\")\n",
        "happy_numbers(13)\n"
      ],
      "metadata": {
        "colab": {
          "base_uri": "https://localhost:8080/"
        },
        "id": "_CDUPvWodAr-",
        "outputId": "6a4e9dbc-1f6c-4fc8-8939-9ae914a8ec94"
      },
      "execution_count": 9,
      "outputs": [
        {
          "output_type": "stream",
          "name": "stdout",
          "text": [
            "1\n"
          ]
        }
      ]
    },
    {
      "cell_type": "code",
      "source": [
        "# 4. Write a Python program to print all happy numbers between 1 and 100?\n",
        "def happy_numbers(n):\n",
        "    past = set()\n",
        "    while n != 1:\n",
        "        n = sum(int(i)**2 for i in str(n))\n",
        "        if n in past:\n",
        "            return False\n",
        "        past.add(n)\n",
        "    return True\n",
        "\n",
        "for i in range(1,101):\n",
        "    flag=happy_numbers(i)\n",
        "    if flag == True:\n",
        "        print(i)\n",
        "\n"
      ],
      "metadata": {
        "colab": {
          "base_uri": "https://localhost:8080/"
        },
        "id": "qP_GTeCngGRe",
        "outputId": "27c43d9f-5c3d-449a-93c4-8cc36ce0cc38"
      },
      "execution_count": 12,
      "outputs": [
        {
          "output_type": "stream",
          "name": "stdout",
          "text": [
            "1\n",
            "7\n",
            "10\n",
            "13\n",
            "19\n",
            "23\n",
            "28\n",
            "31\n",
            "32\n",
            "44\n",
            "49\n",
            "68\n",
            "70\n",
            "79\n",
            "82\n",
            "86\n",
            "91\n",
            "94\n",
            "97\n",
            "100\n"
          ]
        }
      ]
    },
    {
      "cell_type": "code",
      "source": [
        "# 5. Write a Python program to determine whether the given number is a Harshad Number?\n",
        "n = input(\"Enter a number: \")\n",
        "divide=0\n",
        "for i in range(len(n)):\n",
        "  divide += int(n[i])\n",
        "# check Harshad Number\n",
        "if int(n)%divide ==0:\n",
        "  print(\"Harshad Number\")\n",
        "else:\n",
        "  print(\"Not a Harshad Number\")\n"
      ],
      "metadata": {
        "colab": {
          "base_uri": "https://localhost:8080/"
        },
        "id": "UDDySmeViJSx",
        "outputId": "f0893b9c-4b53-4a96-ce19-5d3f33332fbd"
      },
      "execution_count": 15,
      "outputs": [
        {
          "output_type": "stream",
          "name": "stdout",
          "text": [
            "Enter a number: 25\n",
            "Not a Harshad Number\n"
          ]
        }
      ]
    },
    {
      "cell_type": "code",
      "source": [
        "# 6. Write a Python program to print all pronic numbers between 1 and 100?\n",
        "import math\n",
        "def check_pronic(n):\n",
        "  max_limit = int(math.sqrt(n))\n",
        "  for i in range(max_limit+1):\n",
        "    if n == (i*(i+1)):\n",
        "      return \"Pronic Number\"\n",
        "  return \"not a pronic number\"\n",
        "\n",
        "n = int(input(\"Enter a number: \"))\n",
        "check_pronic(n)\n",
        "\n"
      ],
      "metadata": {
        "colab": {
          "base_uri": "https://localhost:8080/",
          "height": 53
        },
        "id": "iXK3QqmjiKf1",
        "outputId": "0e176420-54cf-4f88-82ed-c05ad10f9e25"
      },
      "execution_count": 22,
      "outputs": [
        {
          "name": "stdout",
          "output_type": "stream",
          "text": [
            "Enter a number: 90\n"
          ]
        },
        {
          "output_type": "execute_result",
          "data": {
            "text/plain": [
              "'Pronic Number'"
            ],
            "application/vnd.google.colaboratory.intrinsic+json": {
              "type": "string"
            }
          },
          "metadata": {},
          "execution_count": 22
        }
      ]
    }
  ]
}