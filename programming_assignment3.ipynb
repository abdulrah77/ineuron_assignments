{
  "nbformat": 4,
  "nbformat_minor": 0,
  "metadata": {
    "colab": {
      "name": "programming_assignment3.ipynb",
      "provenance": [],
      "authorship_tag": "ABX9TyMKnxj0n3donAePygr/8U1E",
      "include_colab_link": true
    },
    "kernelspec": {
      "name": "python3",
      "display_name": "Python 3"
    },
    "language_info": {
      "name": "python"
    }
  },
  "cells": [
    {
      "cell_type": "markdown",
      "metadata": {
        "id": "view-in-github",
        "colab_type": "text"
      },
      "source": [
        "<a href=\"https://colab.research.google.com/github/abdulrah77/ineuron_assignments/blob/main/programming_assignment3.ipynb\" target=\"_parent\"><img src=\"https://colab.research.google.com/assets/colab-badge.svg\" alt=\"Open In Colab\"/></a>"
      ]
    },
    {
      "cell_type": "code",
      "execution_count": 11,
      "metadata": {
        "colab": {
          "base_uri": "https://localhost:8080/"
        },
        "id": "m41hJXuH8Td5",
        "outputId": "85f11f23-3bc5-45e6-f067-c949ea84d3a2"
      },
      "outputs": [
        {
          "output_type": "stream",
          "name": "stdout",
          "text": [
            "Enter a number to check Positive or Negative: -45\n",
            "Number is negative\n"
          ]
        }
      ],
      "source": [
        "# 1.\tWrite a Python Program to Check if a Number is Positive, Negative or Zero?\n",
        "n = int(input(\"Enter a number to check Positive or Negative: \"))\n",
        "\n",
        "if n==0:\n",
        "  print(\"Given number is zero\")\n",
        "elif n>0:\n",
        "  print(\"Number is positive \")\n",
        "else:\n",
        "  print(\"Number is negative\")\n",
        "\n",
        "\n"
      ]
    },
    {
      "cell_type": "code",
      "source": [
        "# 2.\tWrite a Python Program to Check if a Number is Odd or Even?\n",
        "n=int(input(\"Enter a number to check if its odd or even: \"))\n",
        "if n%2==0:\n",
        "  print(\"The number is even\")\n",
        "else:\n",
        "  print(\"The number is odd\")\n"
      ],
      "metadata": {
        "colab": {
          "base_uri": "https://localhost:8080/"
        },
        "id": "MzIfKHs2ClYO",
        "outputId": "d6e5fbc0-2a86-48ec-e60b-912dcb011c64"
      },
      "execution_count": 13,
      "outputs": [
        {
          "output_type": "stream",
          "name": "stdout",
          "text": [
            "Enter a number to check if its odd or even: 5\n",
            "The number is odd\n"
          ]
        }
      ]
    },
    {
      "cell_type": "code",
      "source": [
        "# 3.\tWrite a Python Program to Check Leap Year?\n",
        "import calendar as cal\n",
        "n=int(input(\"Enter a year to check leap year or not: \"))\n",
        "\n",
        "if cal.isleap(n):\n",
        "  print(\"Leap year\")\n",
        "else:\n",
        "  print(\"Not a leap year\")  \n"
      ],
      "metadata": {
        "id": "TsKoEFVqfsv7"
      },
      "execution_count": null,
      "outputs": []
    },
    {
      "cell_type": "code",
      "source": [
        "# 4.\tWrite a Python Program to Check Prime Number?\n",
        "num=int(input(\"Enter a number to Check Prime Number or not: \"))\n",
        "if num>1:\n",
        "  for i in range(2,num):\n",
        "    if(num%i)==0:\n",
        "      print(\"Not a Prime number\")\n",
        "      break\n",
        "  else:\n",
        "    print(\"Prime Number\")\n",
        "        \n",
        "else:\n",
        "  print(\"Not a Prime number\")"
      ],
      "metadata": {
        "id": "CXAr9hMqg2Gl"
      },
      "execution_count": null,
      "outputs": []
    },
    {
      "cell_type": "code",
      "source": [
        "# 5.\tWrite a Python Program to Print all Prime Numbers in an Interval of 1-10000?\n",
        "for i in range(1,10000):\n",
        "  for j in range(2,i):\n",
        "    if(i%j)==0:\n",
        "      break\n",
        "  else:\n",
        "    print(i)"
      ],
      "metadata": {
        "id": "7ZvdGP0XhGWk"
      },
      "execution_count": null,
      "outputs": []
    }
  ]
}