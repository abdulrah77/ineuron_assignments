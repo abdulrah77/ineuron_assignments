{
  "nbformat": 4,
  "nbformat_minor": 0,
  "metadata": {
    "colab": {
      "name": "Assignment9.ipynb",
      "provenance": [],
      "authorship_tag": "ABX9TyOXqa7ZZPT2cbBtERCqYjP0",
      "include_colab_link": true
    },
    "kernelspec": {
      "name": "python3",
      "display_name": "Python 3"
    },
    "language_info": {
      "name": "python"
    }
  },
  "cells": [
    {
      "cell_type": "markdown",
      "metadata": {
        "id": "view-in-github",
        "colab_type": "text"
      },
      "source": [
        "<a href=\"https://colab.research.google.com/github/abdulrah77/ineuron_assignments/blob/main/Assignment9.ipynb\" target=\"_parent\"><img src=\"https://colab.research.google.com/assets/colab-badge.svg\" alt=\"Open In Colab\"/></a>"
      ]
    },
    {
      "cell_type": "markdown",
      "source": [
        "1. To what does a relative path refer?\n",
        "The relative path is the path of a file with respect to your current working directory.\n",
        "\n",
        "2. What does an absolute path start with your operating system?\n",
        "An absolute path contains the full set of directories from the root of the file system up to your target file or directory\n",
        "\n",
        "3. What do the functions os.getcwd() and os.chdir() do?\n",
        "os.getcwd() : prints currents working directory\n",
        "os.chdir() : is used to change the directories\n",
        "4. What are the . and .. folders?\n",
        ". is the current folder and .. is the parent folder.\n",
        "\n",
        "5. In C:\\bacon\\eggs\\spam.txt, which part is the dir name, and which part is the base name?\n",
        "os.path.basename(): Right most part of the file path is the base name from the given example base name is spam.txt\n",
        "\n",
        "os.path.dirname(): is where dir / folder where the file exists.\n",
        "\n",
        "6. What are the three “mode” arguments that can be passed to the open() function?\n",
        "Create 'x' \n",
        "Write 'w'\n",
        "Read 'r'\n",
        "above are the three mode arguments that can be passed to open() function\n",
        "\n",
        "7. What happens if an existing file is opened in write mode?\n",
        "When opening existing file is opened in write mode, existing data is overwritten by the new contents.\n",
        "\n",
        "8. How do you tell the difference between read() and readlines()?\n",
        "read(): reads the entire data into a string\n",
        "readline(): reads data till the next line.\n",
        "\n",
        "9. What data structure does a shelf value resemble?\n",
        "dictionries, as the shelf takes key value pairs"
      ],
      "metadata": {
        "id": "f7HJcdUhgFSv"
      }
    }
  ]
}