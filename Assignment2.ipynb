{
  "nbformat": 4,
  "nbformat_minor": 0,
  "metadata": {
    "colab": {
      "name": "Assignment2.ipynb",
      "provenance": [],
      "authorship_tag": "ABX9TyP196Fg0Qn+7ysZlloy8Z8N",
      "include_colab_link": true
    },
    "kernelspec": {
      "name": "python3",
      "display_name": "Python 3"
    },
    "language_info": {
      "name": "python"
    }
  },
  "cells": [
    {
      "cell_type": "markdown",
      "metadata": {
        "id": "view-in-github",
        "colab_type": "text"
      },
      "source": [
        "<a href=\"https://colab.research.google.com/github/abdulrah77/ineuron_assignments/blob/main/Assignment2.ipynb\" target=\"_parent\"><img src=\"https://colab.research.google.com/assets/colab-badge.svg\" alt=\"Open In Colab\"/></a>"
      ]
    },
    {
      "cell_type": "markdown",
      "source": [
        "1.What are the two values of the Boolean data type? How do you write them?\n",
        "\n",
        "True \n",
        "False\n",
        "\n",
        "2. What are the three different types of Boolean operators?\n",
        "\n",
        "and (&)\n",
        "or (|)\n",
        "not (\n",
        "\n",
        "3. Make a list of each Boolean operator's truth tables (i.e. every possible combination of Boolean values for the operator and what it evaluate ).\n"
      ],
      "metadata": {
        "id": "brd-SM_LAli2"
      }
    },
    {
      "cell_type": "code",
      "source": [
        "def bool_and():\n",
        "  for a in (True,False):\n",
        "    for b in (True,False):\n",
        "      print(a and b)\n",
        "def bool_or():\n",
        "  for a in (True,False):\n",
        "    for b in (True,False):\n",
        "      print(a or b)   \n",
        "def bool_not():\n",
        "  for a in (True,False):\n",
        "    print( not a )   \n",
        "bool_and()\n",
        "bool_or()\n",
        "bool_not()"
      ],
      "metadata": {
        "colab": {
          "base_uri": "https://localhost:8080/"
        },
        "id": "U0xMC5tPBqFW",
        "outputId": "6cf95036-b6af-4b87-92b3-44af29a56be5"
      },
      "execution_count": 11,
      "outputs": [
        {
          "output_type": "stream",
          "name": "stdout",
          "text": [
            "True\n",
            "False\n",
            "False\n",
            "False\n",
            "True\n",
            "True\n",
            "True\n",
            "False\n",
            "False\n",
            "True\n"
          ]
        }
      ]
    },
    {
      "cell_type": "markdown",
      "source": [
        "4. What are the values of the following expressions?\n",
        "(5 > 4) and (3 == 5) \n",
        "False\n",
        "not (5 > 4)\n",
        "False\n",
        "(5 > 4) or (3 == 5)\n",
        "True\n",
        "not ((5 > 4) or (3 == 5))\n",
        "False\n",
        "(True and True) and (True == False)\n",
        "False\n",
        "(not False) or (not True)\n",
        "True"
      ],
      "metadata": {
        "id": "3t93PnW9BoR5"
      }
    },
    {
      "cell_type": "markdown",
      "source": [
        "5. What are the six comparison operators?\n",
        "==\n",
        "<=\n",
        ">=\n",
        "<\n",
        ">\n",
        "!=\n",
        "\n",
        "\n",
        "6. How do you tell the difference between the equal to and assignment operators? Describe a condition and when you would use one.\n",
        "Equal to operator has two equals sign (==), is used to check if two vaule are the same.\n",
        "Assignment assigns a value to a variable.\n",
        "\n",
        "7. Identify the three blocks in this code:\n",
        "spam = 0\n",
        "if spam == 10:\n",
        "  print('eggs')\n",
        "if spam > 5:\n",
        "  print('bacon')\n",
        "else:\n",
        "  print('ham')\n",
        "print('spam')\n",
        "print('spam')\n",
        "\n",
        "8. Write code that prints Hello if 1 is stored in spam, prints Howdy if 2 is stored in spam, and prints Greetings! if anything else is stored in spam.\n",
        "\n",
        "if spam==1:\n",
        "  print(\"Hello!\")\n",
        "elif spam==2:\n",
        "  print(\"Howdy\")\n",
        "else:\n",
        "  print(\"Greetings!\")\n",
        "\n",
        "\n",
        "9.If your programme is stuck in an endless loop, what keys you’ll press?\n",
        "Ctrl + C\n",
        "\n",
        "10. How can you tell the difference between break and continue?\n",
        "break terminates the loop\n",
        "continue terminates the current element of the loop\n",
        "\n",
        "11. In a for loop, what is the difference between range(10), range(0, 10), and range(0, 10, 1)?\n",
        "No difference, will give the same output. Range takes three arguments: Initial value, Final value and increment\n",
        "\n",
        "12. Write a short program that prints the numbers 1 to 10 using a for loop. Then write an equivalent program that prints the numbers 1 to 10 using a while loop.\n",
        "for i in range(1,11):\n",
        "  print(i)\n",
        "\n",
        "i=1\n",
        "while(i<10):\n",
        "  print(i)\n",
        "  i=i+1\n",
        "\n"
      ],
      "metadata": {
        "id": "Gb5LUokueAi2"
      }
    },
    {
      "cell_type": "code",
      "source": [
        "for i in range(1,11):\n",
        "  print(i)\n",
        "i=1\n",
        "while(i<=10):\n",
        "  print(i)\n",
        "  i=i+1"
      ],
      "metadata": {
        "id": "dzSk7qB0h8pk"
      },
      "execution_count": null,
      "outputs": []
    },
    {
      "cell_type": "markdown",
      "source": [
        "13. If you had a function named bacon() inside a module named spam, how would you call it after importing spam?\n",
        "import bacon from spam"
      ],
      "metadata": {
        "id": "gZeBVUMViT2d"
      }
    }
  ]
}