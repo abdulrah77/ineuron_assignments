{
 "cells": [
  {
   "attachments": {},
   "cell_type": "markdown",
   "metadata": {},
   "source": [
    "1.What advantages do Excel spreadsheets have over CSV spreadsheets?\n",
    "Excel spreadsheets have more features and formatting options than CSV spreadsheets. They allow for multiple worksheets within a single file, cell formatting, and formulas. Additionally, Excel files can be password protected and have built-in charting and graphing tools."
   ]
  },
  {
   "attachments": {},
   "cell_type": "markdown",
   "metadata": {},
   "source": [
    "2.What do you pass to csv.reader() and csv.writer() to create reader and writer objects?\n",
    "You pass a File object, opened in the appropriate mode, to the csv.reader() and csv.writer() functions to create reader and writer objects."
   ]
  },
  {
   "attachments": {},
   "cell_type": "markdown",
   "metadata": {},
   "source": [
    "3.What modes do File objects for reader and writer objects need to be opened in?\n",
    "For a reader object, the File object needs to be opened in 'r' mode, and for a writer object, the File object needs to be opened in 'w' mode."
   ]
  },
  {
   "attachments": {},
   "cell_type": "markdown",
   "metadata": {},
   "source": [
    "4.What method takes a list argument and writes it to a CSV file?\n",
    "The writerow() method "
   ]
  },
  {
   "attachments": {},
   "cell_type": "markdown",
   "metadata": {},
   "source": [
    "5.What do the keyword arguments delimiter and line terminator do?\n",
    "The delimiter keyword argument specifies the character used to separate fields in a CSV file (comma by default), and the lineterminator keyword argument specifies the character used to terminate lines (newline by default)."
   ]
  },
  {
   "attachments": {},
   "cell_type": "markdown",
   "metadata": {},
   "source": [
    "6.What function takes a string of JSON data and returns a Python data structure?\n",
    "The json.loads() function takes a string of JSON data and returns a Python data structure."
   ]
  },
  {
   "attachments": {},
   "cell_type": "markdown",
   "metadata": {},
   "source": [
    "7.What function takes a Python data structure and returns a string of JSON data?\n",
    "The json.dumps() function takes a Python data structure and returns a string of JSON data."
   ]
  }
 ],
 "metadata": {
  "language_info": {
   "name": "python"
  },
  "orig_nbformat": 4
 },
 "nbformat": 4,
 "nbformat_minor": 2
}
